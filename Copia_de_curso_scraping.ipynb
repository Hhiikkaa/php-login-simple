{
  "nbformat": 4,
  "nbformat_minor": 0,
  "metadata": {
    "colab": {
      "provenance": [],
      "authorship_tag": "ABX9TyNZ/6XJw+5ydCUFx5EVhxyG",
      "include_colab_link": true
    },
    "kernelspec": {
      "name": "python3",
      "display_name": "Python 3"
    },
    "language_info": {
      "name": "python"
    }
  },
  "cells": [
    {
      "cell_type": "markdown",
      "metadata": {
        "id": "view-in-github",
        "colab_type": "text"
      },
      "source": [
        "<a href=\"https://colab.research.google.com/github/Hhiikkaa/php-login-simple/blob/master/Copia_de_curso_scraping.ipynb\" target=\"_parent\"><img src=\"https://colab.research.google.com/assets/colab-badge.svg\" alt=\"Open In Colab\"/></a>"
      ]
    },
    {
      "cell_type": "code",
      "execution_count": null,
      "metadata": {
        "id": "zRCmGcfXiaFm"
      },
      "outputs": [],
      "source": [
        "#Definimos los parametros de nuestra query\n",
        "import requests\n",
        "latitud = -34.6\n",
        "longitud = -58.4\n",
        "fecha = '1816-07-09' #AAAA-MM-DD"
      ]
    },
    {
      "cell_type": "code",
      "source": [
        "# Hacemos el pedido y guardamos la respuesta en una nueva variable\n",
        "respuesta_sunset = requests.get(f'https://api.sunrise-sunset.org/json?lat={latitud}&lng={longitud}&date={fecha}')"
      ],
      "metadata": {
        "id": "YY8c-Zjzkipe"
      },
      "execution_count": null,
      "outputs": []
    },
    {
      "cell_type": "code",
      "source": [
        "# Para des-serializar el objeto (que era tipo 'HTTPResponse') y cargarlo como json\n",
        "datos_sunset = respuesta_sunset.json()\n",
        "datos_sunset"
      ],
      "metadata": {
        "colab": {
          "base_uri": "https://localhost:8080/"
        },
        "collapsed": true,
        "id": "kLzHEGAKk7Xf",
        "outputId": "3c98f46c-22e2-4ff4-9348-127bcd660751"
      },
      "execution_count": null,
      "outputs": [
        {
          "output_type": "execute_result",
          "data": {
            "text/plain": [
              "{'results': {'sunrise': '10:58:20 AM',\n",
              "  'sunset': '8:58:27 PM',\n",
              "  'solar_noon': '3:58:24 PM',\n",
              "  'day_length': '10:00:07',\n",
              "  'civil_twilight_begin': '10:32:04 AM',\n",
              "  'civil_twilight_end': '9:24:44 PM',\n",
              "  'nautical_twilight_begin': '10:00:49 AM',\n",
              "  'nautical_twilight_end': '9:55:58 PM',\n",
              "  'astronomical_twilight_begin': '9:30:19 AM',\n",
              "  'astronomical_twilight_end': '10:26:29 PM'},\n",
              " 'status': 'OK',\n",
              " 'tzid': 'UTC'}"
            ]
          },
          "metadata": {},
          "execution_count": 4
        }
      ]
    },
    {
      "cell_type": "code",
      "source": [
        "#Evaluamos el status del pedido\n",
        "sunset_status = datos_sunset['status']\n",
        "print(f'Status: {sunset_status}')"
      ],
      "metadata": {
        "colab": {
          "base_uri": "https://localhost:8080/"
        },
        "id": "81fGNhSSlZZ6",
        "outputId": "9e7d0110-839d-4004-e3ef-f82011baeecc"
      },
      "execution_count": null,
      "outputs": [
        {
          "output_type": "stream",
          "name": "stdout",
          "text": [
            "Status: OK\n"
          ]
        }
      ]
    },
    {
      "cell_type": "code",
      "source": [
        "# Podemos ver su contenido ya que son diccionarios anidados:\n",
        "sunset = datos_sunset['results']['sunset']\n",
        "print(f'En {fecha} el sol se ocultó a las {sunset} (UTC)')"
      ],
      "metadata": {
        "colab": {
          "base_uri": "https://localhost:8080/"
        },
        "id": "tdlkxqw7r0dO",
        "outputId": "a729354a-bb69-40cb-b058-74478652edfe"
      },
      "execution_count": null,
      "outputs": [
        {
          "output_type": "stream",
          "name": "stdout",
          "text": [
            "En 1816-07-09 el sol se ocultó a las 8:58:27 PM (UTC)\n"
          ]
        }
      ]
    },
    {
      "cell_type": "code",
      "source": [
        "# También podríamos iterar sus claves\n",
        "print(\"Iterando data_sunset[results]:\")\n",
        "for elemento in datos_sunset['results']:\n",
        "    print(elemento)"
      ],
      "metadata": {
        "colab": {
          "base_uri": "https://localhost:8080/"
        },
        "id": "fZPnc4XysvGX",
        "outputId": "2a5565d0-a3c2-410c-e85a-0ceb4654c19f",
        "collapsed": true
      },
      "execution_count": null,
      "outputs": [
        {
          "output_type": "stream",
          "name": "stdout",
          "text": [
            "Iterando data_sunset[results]:\n",
            "sunrise\n",
            "sunset\n",
            "solar_noon\n",
            "day_length\n",
            "civil_twilight_begin\n",
            "civil_twilight_end\n",
            "nautical_twilight_begin\n",
            "nautical_twilight_end\n",
            "astronomical_twilight_begin\n",
            "astronomical_twilight_end\n"
          ]
        }
      ]
    },
    {
      "cell_type": "markdown",
      "source": [
        "Uso de API por medio de una librería: Wikipedia"
      ],
      "metadata": {
        "id": "92hy5SH2ufRK"
      }
    },
    {
      "cell_type": "code",
      "source": [
        "# Instalamos el paquete porque no viene con colab\n",
        "!pip3 install --force-reinstall -v \"wikipedia-api==0.5.8\""
      ],
      "metadata": {
        "colab": {
          "base_uri": "https://localhost:8080/",
          "height": 1000
        },
        "collapsed": true,
        "id": "l6WpYTRfuqzA",
        "outputId": "5fd21631-275c-4401-97e3-186c291c65f0"
      },
      "execution_count": null,
      "outputs": [
        {
          "output_type": "stream",
          "name": "stdout",
          "text": [
            "Using pip 23.1.2 from /usr/local/lib/python3.10/dist-packages/pip (python 3.10)\n",
            "Collecting wikipedia-api==0.5.8\n",
            "  Downloading Wikipedia_API-0.5.8-py3-none-any.whl (13 kB)\n",
            "Collecting requests (from wikipedia-api==0.5.8)\n",
            "  Downloading requests-2.32.3-py3-none-any.whl (64 kB)\n",
            "\u001b[2K     \u001b[90m━━━━━━━━━━━━━━━━━━━━━━━━━━━━━━━━━━━━━━━━\u001b[0m \u001b[32m64.9/64.9 kB\u001b[0m \u001b[31m2.3 MB/s\u001b[0m eta \u001b[36m0:00:00\u001b[0m\n",
            "\u001b[?25hCollecting charset-normalizer<4,>=2 (from requests->wikipedia-api==0.5.8)\n",
            "  Downloading charset_normalizer-3.3.2-cp310-cp310-manylinux_2_17_x86_64.manylinux2014_x86_64.whl (142 kB)\n",
            "\u001b[2K     \u001b[90m━━━━━━━━━━━━━━━━━━━━━━━━━━━━━━━━━━━━━━━━\u001b[0m \u001b[32m142.1/142.1 kB\u001b[0m \u001b[31m6.3 MB/s\u001b[0m eta \u001b[36m0:00:00\u001b[0m\n",
            "\u001b[?25hCollecting idna<4,>=2.5 (from requests->wikipedia-api==0.5.8)\n",
            "  Downloading idna-3.7-py3-none-any.whl (66 kB)\n",
            "\u001b[2K     \u001b[90m━━━━━━━━━━━━━━━━━━━━━━━━━━━━━━━━━━━━━━━━\u001b[0m \u001b[32m66.8/66.8 kB\u001b[0m \u001b[31m7.8 MB/s\u001b[0m eta \u001b[36m0:00:00\u001b[0m\n",
            "\u001b[?25hCollecting urllib3<3,>=1.21.1 (from requests->wikipedia-api==0.5.8)\n",
            "  Downloading urllib3-2.2.2-py3-none-any.whl (121 kB)\n",
            "\u001b[2K     \u001b[90m━━━━━━━━━━━━━━━━━━━━━━━━━━━━━━━━━━━━━━━━\u001b[0m \u001b[32m121.4/121.4 kB\u001b[0m \u001b[31m13.1 MB/s\u001b[0m eta \u001b[36m0:00:00\u001b[0m\n",
            "\u001b[?25hCollecting certifi>=2017.4.17 (from requests->wikipedia-api==0.5.8)\n",
            "  Downloading certifi-2024.7.4-py3-none-any.whl (162 kB)\n",
            "\u001b[2K     \u001b[90m━━━━━━━━━━━━━━━━━━━━━━━━━━━━━━━━━━━━━━━━\u001b[0m \u001b[32m163.0/163.0 kB\u001b[0m \u001b[31m16.0 MB/s\u001b[0m eta \u001b[36m0:00:00\u001b[0m\n",
            "\u001b[?25hInstalling collected packages: urllib3, idna, charset-normalizer, certifi, requests, wikipedia-api\n",
            "  Attempting uninstall: urllib3\n",
            "    Found existing installation: urllib3 2.0.7\n",
            "    Uninstalling urllib3-2.0.7:\n",
            "      Removing file or directory /usr/local/lib/python3.10/dist-packages/urllib3-2.0.7.dist-info/\n",
            "      Removing file or directory /usr/local/lib/python3.10/dist-packages/urllib3/\n",
            "      Successfully uninstalled urllib3-2.0.7\n",
            "  Attempting uninstall: idna\n",
            "    Found existing installation: idna 3.7\n",
            "    Uninstalling idna-3.7:\n",
            "      Removing file or directory /usr/local/lib/python3.10/dist-packages/idna-3.7.dist-info/\n",
            "      Removing file or directory /usr/local/lib/python3.10/dist-packages/idna/\n",
            "      Successfully uninstalled idna-3.7\n",
            "  Attempting uninstall: charset-normalizer\n",
            "    Found existing installation: charset-normalizer 3.3.2\n",
            "    Uninstalling charset-normalizer-3.3.2:\n",
            "      Removing file or directory /usr/local/bin/normalizer\n",
            "      Removing file or directory /usr/local/lib/python3.10/dist-packages/charset_normalizer-3.3.2.dist-info/\n",
            "      Removing file or directory /usr/local/lib/python3.10/dist-packages/charset_normalizer/\n",
            "      Successfully uninstalled charset-normalizer-3.3.2\n",
            "  changing mode of /usr/local/bin/normalizer to 755\n",
            "  Attempting uninstall: certifi\n",
            "    Found existing installation: certifi 2024.7.4\n",
            "    Uninstalling certifi-2024.7.4:\n",
            "      Removing file or directory /usr/local/lib/python3.10/dist-packages/certifi-2024.7.4.dist-info/\n",
            "      Removing file or directory /usr/local/lib/python3.10/dist-packages/certifi/\n",
            "      Successfully uninstalled certifi-2024.7.4\n",
            "  Attempting uninstall: requests\n",
            "    Found existing installation: requests 2.31.0\n",
            "    Uninstalling requests-2.31.0:\n",
            "      Removing file or directory /usr/local/lib/python3.10/dist-packages/requests-2.31.0.dist-info/\n",
            "      Removing file or directory /usr/local/lib/python3.10/dist-packages/requests/\n",
            "      Successfully uninstalled requests-2.31.0\n",
            "\u001b[31mERROR: pip's dependency resolver does not currently take into account all the packages that are installed. This behaviour is the source of the following dependency conflicts.\n",
            "google-colab 1.0.0 requires requests==2.31.0, but you have requests 2.32.3 which is incompatible.\u001b[0m\u001b[31m\n",
            "\u001b[0mSuccessfully installed certifi-2024.7.4 charset-normalizer-3.3.2 idna-3.7 requests-2.32.3 urllib3-2.2.2 wikipedia-api-0.5.8\n"
          ]
        },
        {
          "output_type": "display_data",
          "data": {
            "application/vnd.colab-display-data+json": {
              "pip_warning": {
                "packages": [
                  "certifi",
                  "charset_normalizer",
                  "requests"
                ]
              },
              "id": "14ef4ad6240d4721839dd7526c0642f7"
            }
          },
          "metadata": {}
        }
      ]
    },
    {
      "cell_type": "code",
      "source": [
        "# Ahora si podemos importarlo\n",
        "import wikipediaapi\n",
        "# chequear versión\n",
        "print(wikipediaapi.__version__)"
      ],
      "metadata": {
        "colab": {
          "base_uri": "https://localhost:8080/"
        },
        "id": "0ZZRxXcUve00",
        "outputId": "a8c2fd46-22c4-4622-a1eb-391854461f22"
      },
      "execution_count": null,
      "outputs": [
        {
          "output_type": "stream",
          "name": "stdout",
          "text": [
            "(0, 5, 8)\n"
          ]
        }
      ]
    },
    {
      "cell_type": "code",
      "source": [
        "# Instanciamos la clase wikipediaapi y utilizamos el metodo wikipedia con el parametro de idioma\n",
        "IDIOMA = 'es'\n",
        "wiki_wiki = wikipediaapi.Wikipedia(IDIOMA)\n",
        "\n",
        "# Usamos el metodo page para y hacemos un pedido con una palabra clave\n",
        "PALABRA_CLAVE = 'programación'\n",
        "wikipedia_programacion = wiki_wiki.page(PALABRA_CLAVE)\n",
        "\n",
        "print(f'wikipedia_programacion es un objeto de tipo: \\n \\n{type(wikipedia_programacion)}')"
      ],
      "metadata": {
        "colab": {
          "base_uri": "https://localhost:8080/"
        },
        "id": "ankOFJ7bv9rW",
        "outputId": "75e2bd3a-9c4e-4ba9-8db1-851f0db1d3f2"
      },
      "execution_count": null,
      "outputs": [
        {
          "output_type": "stream",
          "name": "stdout",
          "text": [
            "wikipedia_programacion es un objeto de tipo: \n",
            " \n",
            "<class 'wikipediaapi.WikipediaPage'>\n"
          ]
        }
      ]
    },
    {
      "cell_type": "code",
      "source": [
        "# Resumen\n",
        "print(wikipedia_programacion.title)\n",
        "print('')\n",
        "print(wikipedia_programacion.summary)"
      ],
      "metadata": {
        "colab": {
          "base_uri": "https://localhost:8080/"
        },
        "collapsed": true,
        "id": "EJ7tBcsKxTSK",
        "outputId": "6d33b700-63ac-4dee-e4d9-60317ad6a2f5"
      },
      "execution_count": null,
      "outputs": [
        {
          "output_type": "stream",
          "name": "stdout",
          "text": [
            "programación\n",
            "\n",
            "La programación es el proceso de crear un conjunto de instrucciones que le dicen a una computadora como realizar algún tipo de tarea. Pero no solo la acción de escribir un código para que la computadora o el software lo ejecute. Incluye, además, todas las tareas necesarias para que el código funcione correctamente y cumpla el objetivo para el cual se escribió.[1]​\n",
            "En la actualidad, la noción de programación se encuentra muy asociada a la creación de aplicaciones de informática y videojuegos. En este sentido, es el proceso por el cual una persona desarrolla un programa, valiéndose de una herramienta que le permita escribir el código (el cual puede estar en uno o varios lenguajes, como C++, Java y Python, entre muchos otros) y de otra que sea capaz de “traducirlo” a lo que se conoce como lenguaje de máquina, que puede \"comprender\" el microprocesador.[2]​\n",
            "\n",
            "Para crear un programa y que la computadora lo interprete y ejecute, las instrucciones deben escribirse en un lenguaje de programación.\n",
            "El lenguaje entendido por una computadora se conoce como código máquina. Consiste en secuencias de instrucciones básicas que el procesador reconoce, codificadas como cadenas de números 1 y 0 (sistema binario). En los primeros tiempos de la computación se programaba directamente en código máquina. Escribir programas así resultaba demasiado complicado, también era difícil entenderlos y mantenerlos una vez escritos. Con el tiempo, se fueron desarrollando herramientas para facilitar el trabajo.\n",
            "Los primeros científicos que trabajaron en el área decidieron reemplazar las secuencias de unos y ceros por mnemónicos, que son abreviaturas en inglés de la función que cumple una instrucción de procesador. Por ejemplo, para sumar se podría usar la letra A de la palabra inglesa add (añadir). Crearon así una familia de lenguajes de mayor nivel, que se conocen como lenguaje ensamblador o simplemente ensamblador (en inglés, assembly). Con el tiempo los ensambladores incorporaron facilidades adicionales, pero siempre manteniendo una correspondencia directa con las instrucciones de procesador. A nivel conceptual, entonces, programar en ensamblador es muy similar a hacerlo en lenguaje máquina, solo que de una forma más amigable.\n",
            "A medida que la complejidad de las tareas que realizaban las computadoras aumentaba, el lenguaje ensamblador fue mostrando limitaciones. Para hacer un programa había que conocer en detalle el funcionamiento de la computadora donde se iba a ejecutar, qué instrucciones proveía y cómo emplearlas. A veces las instrucciones eran demasiado básicas, por ejemplo podía haber una para sumar dos números pero no para multiplicar, y entonces era necesario programar un algoritmo que realizara la multiplicación con base en instrucciones más básicas. Otras veces, la forma de emplear las instrucciones era engorrosa. Además, si se usaba otro modelo de computadora, en muchos casos había que reescribir el programa con otras instrucciones. El siguiente paso fue crear los lenguajes de alto nivel.\n",
            "Una vez que se termina de escribir un programa, es necesario de alguna forma traducirlo a lenguaje máquina, que es lo único que entiende el procesador. Esta tarea es automática, por medio de un programa adicional que toma el código escrito y lo procesa. Hay distintos enfoques para este procesamiento. El enfoque clásico se llama compilación: el programa toma el código en un lenguaje y genera código en el otro; al programa traductor se lo llama compilador. En general se habla de compilación y compiladores cuando el lenguaje de origen es de alto nivel; si la traducción es desde lenguaje ensamblador, se llama ensamblado y el programa se llama ensamblador (hay que distinguir el lenguaje ensamblador del programa ensamblador; en inglés es más claro, son assembly language y assembler respectivamente).[3]​\n",
            "Generalmente existe una fase posterior a la compilación denominada enlace o enlazado (linking en inglés). Los programas pueden escribirse en partes separadas y además pueden usar recursos provistos por bibliotecas. El enlazado, realizado por un programa llamado enlazador, combina todos los componentes y así genera un programa ejecutable completo.\n",
            "En algunos lenguajes de programación, puede usarse un enfoque diferente que no requiera compilación y enlace: un programa llamado intérprete va leyendo el código y realizando en el momento las acciones que haría el programa. Se evita generar código separado y la experiencia es que se está ejecutando el código en el lenguaje de alto nivel, a pesar de que el procesador no lo entienda de forma nativa.\n",
            "\n",
            "La programación se rige por reglas y un conjunto más o menos reducido de órdenes, expresiones, instrucciones y comandos que tienden a asemejarse a una lengua natural acotada (en inglés); y que además tienen la particularidad de una reducida ambigüedad.\n",
            "En los lenguajes de programación se distinguen diversos elementos entre los que se incluyen el léxico propio del lenguaje y las reglas semánticas y sintácticas. Dentro del léxico, generalmente se utilizan símbolos y palabras con funciones específicas dentro del lenguaje. Estas palabras suelen tomarse del inglés y no se las puede utilizar de manera diferente: son las denominadas palabras reservadas. Otra particularidad de los lenguajes es el permitir a los programadores el uso de comentarios: frases o párrafos sin funcionalidad en el programa, que los compiladores o intérpretes descartan y solo están destinados a ser leídos por personas; así se pueden dejar explicaciones que ayuden a entender el código a quien lo lea.[4]​\n",
            "\n",
            "Un algoritmo es una secuencia no ambigua, finita y ordenada de instrucciones que han de seguirse para resolver un determinado problema.[1]​ Un programa normalmente implementa y contiene uno o más algoritmos. Un algoritmo puede expresarse de distintas maneras: en forma gráfica, como un diagrama de flujo, en forma de código como en pseudocódigo o un lenguaje de programación, en forma explicativa.\n",
            "Los programas suelen subdividirse en partes menores, llamadas módulos, de modo que la complejidad algorítmica de cada una de las partes sea menor que la del programa completo, lo cual ayuda a simplificar el desarrollo del programa. Esta es una práctica muy utilizada y se conoce como \"refino progresivo\".\n",
            "Según Niklaus Wirth, un programa está formado por los algoritmos y estructuras de datos.\n",
            "La programación puede seguir muchos enfoques, o paradigmas, es decir, diversas maneras de formular la resolución de un problema dado. Algunos de los principales paradigmas de programación son:\n",
            "\n",
            "Programación declarativa\n",
            "Programación imperativa\n",
            "Programación estructurada\n",
            "Programación modular\n",
            "Programación orientada a objetos\n",
            "Programación orientada a eventos\n",
            "\n",
            "El programa escrito en un lenguaje de programación de alto nivel (fácilmente comprensible por el programador) es llamado programa fuente y no se puede ejecutar directamente en una computadora. La opción más común es compilar el programa obteniendo un módulo objeto, aunque también, si el lenguaje lo soporta, puede ejecutarse en forma directa pero solo a través de un intérprete. Algunos lenguajes, tal como BASIC, disponen de ambas formas de ejecución, lo cual facilita la tarea de depuración y prueba del programa.\n",
            "El código fuente del programa se debe someter a un proceso de traducción para convertirlo a lenguaje máquina o bien a un código intermedio, generando así un módulo denominado \"objeto\". A este proceso se le llama compilación.\n",
            "Habitualmente la creación de un programa ejecutable (un típico.exe para Microsoft Windows o DOS) conlleva dos pasos: el primer paso se llama compilación (propiamente dicho) y traduce el código fuente, escrito en un lenguaje de programación y almacenado en un archivo de texto, a código en bajo nivel (normalmente a código objeto, no directamente a lenguaje máquina). El segundo paso se llama enlazado en el cual se enlaza el código de bajo nivel generado de todos los ficheros y subprogramas que se han mandado a compilar y se añade el código de las funciones necesarias que residen en bibliotecas externas, para que el ejecutable pueda comunicarse directamente con el sistema operativo, traduciendo así finalmente el código objeto a código máquina, y generando un módulo ejecutable.\n",
            "Estos dos pasos se pueden hacer por separado, almacenando el resultado de la fase de compilación en archivos objetos (un típico.o para Unix,.obj para MS-Windows y DOS); para enlazarlos en fases posteriores, o crear directamente el ejecutable; con lo que la fase de compilación puede almacenarse de forma temporal. Un programa podría tener partes escritas en varios lenguajes, por ejemplo, Java, C, C++ y ensamblador, que se podrían compilar de forma independiente y luego combinarse para formar un único módulo ejecutable.\n",
            "\n",
            "Existe una tendencia a identificar el proceso de creación de un programa informático con la programación, que es cierta cuando se trata de programas pequeños para uso personal, y que dista de la realidad cuando se trata de grandes proyectos.\n",
            "El proceso de creación de software, desde el punto de vista de la ingeniería, incluye mínimamente los siguientes pasos:\n",
            "\n",
            "Reconocer la necesidad de un programa para solucionar un problema o identificar la posibilidad de automatización de una tarea.\n",
            "Recolectar los requisitos del programa. Debe quedar claro qué es lo que debe hacer el programa y para qué se necesita.\n",
            "Realizar el análisis de los requisitos del programa. Debe quedar claro qué tareas debe realizar el programa. Las pruebas que comprueben la validez del programa se pueden especificar en esta fase.\n",
            "Diseñar la arquitectura del programa. Se debe descomponer el programa en partes de complejidad abordable.\n",
            "Implementar el programa. Consiste en realizar un diseño detallado, especificando completamente todo el funcionamiento del programa, tras lo cual la codificación (programación propiamente dicha) debería resultar inmediata.\n",
            "Probar el programa. Comprobar que pasan pruebas que se han definido en el análisis de requisitos.\n",
            "Implantar (instalar) el programa. Consiste en poner el programa en funcionamiento junto con los componentes que sean necesarios (bases de datos, redes de comunicaciones, etc.).\n",
            "La ingeniería del software se centra en los pasos de planificación y diseño del programa, mientras que antiguamente (programación artesanal) la realización de un programa consistía casi únicamente en escribir el código, bajo solo el conocimiento de los requisitos y con una modesta fase de análisis y diseño.\n",
            "\n",
            "El trabajo de Ada Lovelace, hija de Anabella Milbanke Byron y Lord Byron, que realizó para la máquina de Babbage le hizo ganarse el título de primera programadora de computadoras del mundo, aunque Babbage nunca completó la construcción de la máquina. El nombre del lenguaje de programación Ada fue escogido como homenaje a esta programadora.\n",
            "\n",
            "La programación debe perseguir la obtención de programas de calidad. Para ello se establece una serie de factores que determinan la calidad de un programa. Algunos de los factores de calidad más importantes son los siguientes:\n",
            "\n",
            "Correctitud. Un programa es correcto si hace lo que debe hacer tal y como se estableció en las fases previas a su desarrollo. Para determinar si un programa hace lo que debe, es muy importante especificar claramente qué debe hacer el programa antes de su desarrollo y, una vez acabado, compararlo con lo que realmente hace. Al verificar este comportamiento está cumpliendo dicho objetivo.\n",
            "Claridad. Es muy importante que el programa sea lo más claro y legible posible, para facilitar tanto su desarrollo como su posterior mantenimiento. Al elaborar un programa se debe intentar que su estructura sea sencilla y coherente, así como cuidar el estilo de programación. De esta forma se ve facilitado el trabajo del programador, tanto en la fase de creación como en las fases posteriores de corrección de errores, ampliaciones, modificaciones, etc. Fases que pueden ser realizadas incluso por otro programador, con lo cual la claridad es aún más necesaria para que otros puedan continuar el trabajo fácilmente. Algunos programadores llegan incluso a utilizar Arte ASCII para delimitar secciones de código; una práctica común es realizar aclaraciones en el mismo código fuente utilizando líneas de comentarios. Contrariamente, algunos programadores realizan acciones que tienden a introducir confusión para impedir un análisis cómodo a otros programadores, recurren al uso de código ofuscado,\n",
            "Eficiencia. Se trata de que el programa, además de realizar aquello para lo que fue creado (es decir, que sea correcto), lo haga gestionando de la mejor forma posible los recursos que utiliza. Normalmente, al hablar de eficiencia de un programa, se suele hacer referencia al tiempo que tarda en realizar la tarea para la que ha sido creado y a la cantidad de memoria que necesita, pero hay otros recursos que también pueden ser de consideración para mejorar la eficiencia de un programa, dependiendo de su naturaleza (espacio en disco que utiliza, tráfico en la red que genera, etc.).\n",
            "Portabilidad. Un programa es portable cuando tiene la capacidad de poder ejecutarse en una plataforma, ya sea hardware o software, diferente a aquella en la que se desarrolló. La portabilidad es una característica muy deseable para un programa, ya que permite, por ejemplo, a un programa que se ha elaborado para el sistema GNU/Linux que también pueda ejecutarse en la familia de sistemas operativos Windows. Consecuentemente el programa puede llegar a más usuarios.\n",
            "\n",
            "El término ciclo de vida del software describe el desarrollo de software, desde la fase inicial hasta la fase final, incluyendo su estado funcional. El propósito es definir las distintas fases intermedias que se requieren para validar el desarrollo de la aplicación, es decir, para garantizar que el software cumpla los requisitos para la aplicación y verificación de los procedimientos de desarrollo: se asegura que los métodos utilizados son apropiados. Estos métodos se originan en el hecho de que es muy costoso corregir los errores que se detectan tarde dentro de la fase de implementación (programación propiamente dicha), o peor aún, durante la fase funcional. En el modelo de ciclo de vida se intenta que los errores se detecten lo antes posible y por lo tanto, permite a los desarrolladores concentrarse en la calidad del software, en los plazos de implementación y en los costos asociados. El ciclo de vida básico de un software consta de, al menos, los siguientes procedimientos:\n",
            "\n",
            "Análisis de requisitos, viabilidad de diseño y especificación de funciones definidas en lenguaje de programación.\n",
            "Análisis de la arquitectura en la creación, desarrollo, corrección e implementación del sistema.\n",
            "Pruebas en la integración de módulos, y subprograma(s) con cada conjunto o subconjunto.\n",
            "Pruebas beta o de validación que garanticen que en el procedimiento de ejecución del software se cumple con todas las especificaciones originales.\n",
            "Mantenimiento de corrección de errores y restricciones.\n",
            "Documentación de toda la información.\n",
            "El orden y la presencia de cada uno de estos procedimientos dependen del tipo de modelo de ciclo de vida acordado entre el cliente y el equipo de desarrolladores. En el caso del software libre se tiene un ciclo de vida mucho más dinámico, puesto que muchos programadores trabajan en simultáneo desarrollando sus eliminaciones.\n",
            "\n",
            " Portal:Programación. Contenido relacionado con Programación.\n",
            "Wikiproyecto:Informática/Programación\n",
            "error de software\n",
            "filosofías del desarrollo de software\n",
            "historia de la ingeniería del software\n",
            "ingeniería en computación\n",
            "ingeniería en informática\n",
            "línea de código fuente\n",
            "lenguaje de programación\n",
            "programación automática\n",
            "programación dirigida por eventos\n",
            "programación estructurada\n",
            "programación extrema\n",
            "programación en pareja\n",
            "programación dinámica\n",
            "programación orientada a objetos\n",
            "pruebas de software\n",
            "software\n",
            "\n",
            " Wikimedia Commons alberga una categoría multimedia sobre Programación.\n",
            " Wikcionario  tiene definiciones y otra información sobre programación.\n",
            " Wikilibros alberga un libro o manual sobre Fundamentos de programación.\n"
          ]
        }
      ]
    },
    {
      "cell_type": "code",
      "source": [
        "# Url completa\n",
        "print(wikipedia_programacion.fullurl)"
      ],
      "metadata": {
        "colab": {
          "base_uri": "https://localhost:8080/"
        },
        "id": "7dfjI6vCxtAN",
        "outputId": "46244e46-aa5d-49ed-ce03-ea413edcf462"
      },
      "execution_count": null,
      "outputs": [
        {
          "output_type": "stream",
          "name": "stdout",
          "text": [
            "https://es.wikipedia.org/wiki/Programaci%C3%B3n\n"
          ]
        }
      ]
    },
    {
      "cell_type": "markdown",
      "source": [
        "BeautifulSoup"
      ],
      "metadata": {
        "id": "k49DS66pzUt_"
      }
    },
    {
      "cell_type": "code",
      "source": [
        "from bs4 import BeautifulSoup\n",
        "import requests"
      ],
      "metadata": {
        "id": "UvAehBX-y8BB"
      },
      "execution_count": null,
      "outputs": []
    },
    {
      "cell_type": "code",
      "source": [
        "# Versiones\n",
        "import bs4 # Solo para el chequeo\n",
        "print(\"Versión de BeautifulSoup: \", bs4.__version__)\n",
        "print(\"Versión de requests: \", requests.__version__)"
      ],
      "metadata": {
        "colab": {
          "base_uri": "https://localhost:8080/"
        },
        "id": "a5Om2xVhzekb",
        "outputId": "f476077c-84a5-4c47-d12e-b4d0fd1ff30a"
      },
      "execution_count": null,
      "outputs": [
        {
          "output_type": "stream",
          "name": "stdout",
          "text": [
            "Versión de BeautifulSoup:  4.12.3\n",
            "Versión de requests:  2.32.3\n"
          ]
        }
      ]
    },
    {
      "cell_type": "code",
      "source": [
        "# Empezamos el scraping\n",
        "\n",
        "# 1.- Obtener el HTML\n",
        "URL_BASE = 'https://scrapepark.org/courses/spanish'\n",
        "pedido_obtenido = requests.get(URL_BASE)\n",
        "html_obtenido = pedido_obtenido.text\n",
        "\n",
        "# 2.- \"Parsear\" ese HTML\n",
        "soup = BeautifulSoup(html_obtenido, 'html.parser')\n",
        "\n",
        "print(soup)\n"
      ],
      "metadata": {
        "colab": {
          "base_uri": "https://localhost:8080/"
        },
        "collapsed": true,
        "id": "YTXdcVMd0NDP",
        "outputId": "4059b39f-8392-41a9-f8db-336f599f289b"
      },
      "execution_count": null,
      "outputs": [
        {
          "output_type": "stream",
          "name": "stdout",
          "text": [
            "<!DOCTYPE html>\n",
            "\n",
            "<html lang=\"es\">\n",
            "<head>\n",
            "<!-- Basic -->\n",
            "<meta charset=\"utf-8\"/>\n",
            "<meta content=\"IE=edge\" http-equiv=\"X-UA-Compatible\"/>\n",
            "<!-- Mobile Metas -->\n",
            "<meta content=\"width=device-width, initial-scale=1, shrink-to-fit=no\" name=\"viewport\"/>\n",
            "<!-- Site Metas -->\n",
            "<meta content=\"\" name=\"keywords\"/>\n",
            "<meta content=\"\" name=\"description\"/>\n",
            "<meta content=\"\" name=\"author\"/>\n",
            "<link href=\"images/favicon.svg\" rel=\"shortcut icon\" type=\"\"/>\n",
            "<title>ScrapePark.org</title>\n",
            "<!-- bootstrap core css -->\n",
            "<link href=\"css/bootstrap.css\" rel=\"stylesheet\" type=\"text/css\"/>\n",
            "<!-- font awesome style -->\n",
            "<link href=\"css/font-awesome.min.css\" rel=\"stylesheet\"/>\n",
            "<!-- Custom styles for this template -->\n",
            "<link href=\"css/style.css\" rel=\"stylesheet\"/>\n",
            "<!-- responsive style -->\n",
            "<link href=\"css/responsive.css\" rel=\"stylesheet\"/>\n",
            "</head>\n",
            "<body>\n",
            "<div class=\"hero-area\">\n",
            "<!-- header section strats -->\n",
            "<header class=\"header-section\">\n",
            "<div class=\"container\">\n",
            "<nav class=\"navbar navbar-expand-lg custom-nav-container\">\n",
            "<a class=\"navbar-brand\" href=\"/courses/spanish/\">\n",
            "<img alt=\"Logo de ScrapePark.org\" src=\"images/logo.svg\" width=\"250\"/>\n",
            "</a>\n",
            "<button aria-controls=\"navbarSupportedContent\" aria-expanded=\"false\" aria-label=\"Toggle navigation\" class=\"navbar-toggler\" data-target=\"#navbarSupportedContent\" data-toggle=\"collapse\" type=\"button\">\n",
            "<span class=\"\"> </span>\n",
            "</button>\n",
            "<div class=\"collapse navbar-collapse\" id=\"navbarSupportedContent\">\n",
            "<ul class=\"navbar-nav\">\n",
            "<li class=\"nav-item active\">\n",
            "<a class=\"nav-link\" href=\"/courses/spanish/\">Inicio<span class=\"sr-only\">(current)</span></a>\n",
            "</li>\n",
            "<li class=\"nav-item dropdown\">\n",
            "<a aria-expanded=\"true\" aria-haspopup=\"true\" class=\"nav-link dropdown-toggle\" data-toggle=\"dropdown\" href=\"#\" role=\"button\"> <span class=\"nav-label\">Contenido<span class=\"caret\"></span></span></a>\n",
            "<ul class=\"dropdown-menu\">\n",
            "<li><a href=\"#acerca\">Acerca</a></li>\n",
            "<li><a href=\"#testimonios\">Testimonios</a></li>\n",
            "</ul>\n",
            "</li>\n",
            "<li class=\"nav-item\">\n",
            "<a class=\"nav-link\" href=\"#productos\">Productos</a>\n",
            "</li>\n",
            "<li class=\"nav-item\">\n",
            "<a class=\"nav-link\" href=\"#precios\">Precios</a>\n",
            "</li>\n",
            "<li class=\"nav-item dropdown\">\n",
            "<a aria-expanded=\"true\" aria-haspopup=\"true\" class=\"nav-link dropdown-toggle\" data-toggle=\"dropdown\" href=\"#\" role=\"button\">\n",
            "<span class=\"nav-label\">Contacto<span class=\"caret\"></span></span></a>\n",
            "<ul class=\"dropdown-menu\">\n",
            "<li class=\"nav-item\">\n",
            "<a class=\"nav-link\" href=\"/courses/spanish/contact1\">Contacto 1</a>\n",
            "</li>\n",
            "<li class=\"nav-item\">\n",
            "<a class=\"nav-link\" href=\"/courses/spanish/contact2\">Contacto 2</a>\n",
            "</li>\n",
            "</ul>\n",
            "<li class=\"nav-item\" id=\"cart\">\n",
            "<a class=\"nav-link\" href=\"#\">\n",
            "<svg id=\"Capa-1\" style=\"enable-background:new 0 0 456.029 456.029;\" version=\"1.1\" viewbox=\"0 0 456.029 456.029\" x=\"0px\" xml:space=\"preserve\" xmlns=\"http://www.w3.org/2000/svg\" xmlns:xlink=\"http://www.w3.org/1999/xlink\" y=\"0px\">\n",
            "<g>\n",
            "<g>\n",
            "<path d=\"M345.6,338.862c-29.184,0-53.248,23.552-53.248,53.248c0,29.184,23.552,53.248,53.248,53.248\r\n",
            "                                            c29.184,0,53.248-23.552,53.248-53.248C398.336,362.926,374.784,338.862,345.6,338.862z\"></path>\n",
            "</g>\n",
            "</g>\n",
            "<g>\n",
            "<g>\n",
            "<path d=\"M439.296,84.91c-1.024,0-2.56-0.512-4.096-0.512H112.64l-5.12-34.304C104.448,27.566,84.992,10.67,61.952,10.67H20.48\r\n",
            "                                            C9.216,10.67,0,19.886,0,31.15c0,11.264,9.216,20.48,20.48,20.48h41.472c2.56,0,4.608,2.048,5.12,4.608l31.744,216.064\r\n",
            "                                            c4.096,27.136,27.648,47.616,55.296,47.616h212.992c26.624,0,49.664-18.944,55.296-45.056l33.28-166.4\r\n",
            "                                            C457.728,97.71,450.56,86.958,439.296,84.91z\"></path>\n",
            "</g>\n",
            "</g>\n",
            "<g>\n",
            "<g>\n",
            "<path d=\"M215.04,389.55c-1.024-28.16-24.576-50.688-52.736-50.688c-29.696,1.536-52.224,26.112-51.2,55.296\r\n",
            "                                            c1.024,28.16,24.064,50.688,52.224,50.688h1.024C193.536,443.31,216.576,418.734,215.04,389.55z\"></path>\n",
            "</g>\n",
            "</g>\n",
            "<g>\n",
            "</g>\n",
            "<g>\n",
            "</g>\n",
            "<g>\n",
            "</g>\n",
            "<g>\n",
            "</g>\n",
            "<g>\n",
            "</g>\n",
            "<g>\n",
            "</g>\n",
            "<g>\n",
            "</g>\n",
            "<g>\n",
            "</g>\n",
            "<g>\n",
            "</g>\n",
            "<g>\n",
            "</g>\n",
            "<g>\n",
            "</g>\n",
            "<g>\n",
            "</g>\n",
            "<g>\n",
            "</g>\n",
            "<g>\n",
            "</g>\n",
            "<g>\n",
            "</g>\n",
            "</svg>\n",
            "</a>\n",
            "</li>\n",
            "<form class=\"form-inline\" id=\"search\">\n",
            "<button class=\"btn my-2 my-sm-0 nav-search-btn\" type=\"submit\">\n",
            "<i aria-hidden=\"true\" class=\"fa fa-search\"></i>\n",
            "</button>\n",
            "</form>\n",
            "</li></ul>\n",
            "</div>\n",
            "</nav>\n",
            "</div>\n",
            "</header>\n",
            "<!-- end header section -->\n",
            "<!-- slider section -->\n",
            "<section class=\"slider-section\">\n",
            "<div class=\"slider-bg-box\">\n",
            "<img alt=\"Parque de patinaje\" src=\"images/slider-bg.jpg\"/>\n",
            "</div>\n",
            "<div class=\"carousel slide\" data-ride=\"carousel\" id=\"customCarousel1\">\n",
            "<div class=\"carousel-inner\">\n",
            "<div class=\"carousel-item active\">\n",
            "<div class=\"container\">\n",
            "<div class=\"row\">\n",
            "<div class=\"col-md-7 col-lg-6\">\n",
            "<div class=\"detail-box\">\n",
            "<h1>\n",
            "<span>\r\n",
            "                          Descuentos 20% Off\r\n",
            "                        </span>\n",
            "<br/>\r\n",
            "                        ¡En todos los productos!\r\n",
            "                      </h1>\n",
            "<p>\r\n",
            "                        Aprovechá nuestras ofertas.\r\n",
            "                      </p>\n",
            "<div class=\"btn-box\">\n",
            "<a class=\"btn1\" href=\"\">\r\n",
            "                          Comprar ahora\r\n",
            "                        </a>\n",
            "</div>\n",
            "</div>\n",
            "</div>\n",
            "</div>\n",
            "</div>\n",
            "</div>\n",
            "<div class=\"carousel-item\">\n",
            "<div class=\"container\">\n",
            "<div class=\"row\">\n",
            "<div class=\"col-md-7 col-lg-6\">\n",
            "<div class=\"detail-box\">\n",
            "<h1>\n",
            "<span>\r\n",
            "                          Descuentos 20% Off\r\n",
            "                        </span>\n",
            "<br/>\r\n",
            "                        ¡En todos los productos!\r\n",
            "                      </h1>\n",
            "<p>\r\n",
            "                        Aprovechá nuestras ofertas.\r\n",
            "                      </p>\n",
            "<div class=\"btn-box\">\n",
            "<a class=\"btn1\" href=\"\">\r\n",
            "                          Comprar ahora\r\n",
            "                        </a>\n",
            "</div>\n",
            "</div>\n",
            "</div>\n",
            "</div>\n",
            "</div>\n",
            "</div>\n",
            "<div class=\"carousel-item\">\n",
            "<div class=\"container\">\n",
            "<div class=\"row\">\n",
            "<div class=\"col-md-7 col-lg-6\">\n",
            "<div class=\"detail-box\">\n",
            "<h1>\n",
            "<span>\r\n",
            "                          Descuentos 20% Off\r\n",
            "                        </span>\n",
            "<br/>\r\n",
            "                        ¡En todos los productos!\r\n",
            "                      </h1>\n",
            "<p>\r\n",
            "                        Aprovechá nuestras ofertas.\r\n",
            "                      </p>\n",
            "<div class=\"btn-box\">\n",
            "<a class=\"btn1\" href=\"\">\r\n",
            "                          Comprar ahora\r\n",
            "                        </a>\n",
            "</div>\n",
            "</div>\n",
            "</div>\n",
            "</div>\n",
            "</div>\n",
            "</div>\n",
            "</div>\n",
            "<div class=\"container\">\n",
            "<ol class=\"carousel-indicators\">\n",
            "<li class=\"active\" data-slide-to=\"0\" data-target=\"#customCarousel1\"></li>\n",
            "<li data-slide-to=\"1\" data-target=\"#customCarousel1\"></li>\n",
            "<li data-slide-to=\"2\" data-target=\"#customCarousel1\"></li>\n",
            "</ol>\n",
            "</div>\n",
            "</div>\n",
            "</section>\n",
            "<!-- end slider section -->\n",
            "</div>\n",
            "<!-- why section -->\n",
            "<section class=\"why-section layout-padding\">\n",
            "<div class=\"container\">\n",
            "<div class=\"heading-container heading-center\" id=\"acerca\">\n",
            "<h2>¿Por qué comprar con nosotros?</h2>\n",
            "</div>\n",
            "<div class=\"row\">\n",
            "<div class=\"col-md-4\">\n",
            "<div class=\"box\">\n",
            "<div class=\"img-box\">\n",
            "<svg id=\"Layer-1\" style=\"enable-background:new 0 0 512 512;\" version=\"1.1\" viewbox=\"0 0 512 512\" x=\"0px\" xml:space=\"preserve\" xmlns=\"http://www.w3.org/2000/svg\" xmlns:xlink=\"http://www.w3.org/1999/xlink\" y=\"0px\">\n",
            "<g>\n",
            "<g>\n",
            "<path d=\"M476.158,231.363l-13.259-53.035c3.625-0.77,6.345-3.986,6.345-7.839v-8.551c0-18.566-15.105-33.67-33.67-33.67h-60.392\r\n",
            "                                      V110.63c0-9.136-7.432-16.568-16.568-16.568H50.772c-9.136,0-16.568,7.432-16.568,16.568V256c0,4.427,3.589,8.017,8.017,8.017\r\n",
            "                                      c4.427,0,8.017-3.589,8.017-8.017V110.63c0-0.295,0.239-0.534,0.534-0.534h307.841c0.295,0,0.534,0.239,0.534,0.534v145.372\r\n",
            "                                      c0,4.427,3.589,8.017,8.017,8.017c4.427,0,8.017-3.589,8.017-8.017v-9.088h94.569c0.008,0,0.014,0.002,0.021,0.002\r\n",
            "                                      c0.008,0,0.015-0.001,0.022-0.001c11.637,0.008,21.518,7.646,24.912,18.171h-24.928c-4.427,0-8.017,3.589-8.017,8.017v17.102\r\n",
            "                                      c0,13.851,11.268,25.119,25.119,25.119h9.086v35.273h-20.962c-6.886-19.883-25.787-34.205-47.982-34.205\r\n",
            "                                      s-41.097,14.322-47.982,34.205h-3.86v-60.393c0-4.427-3.589-8.017-8.017-8.017c-4.427,0-8.017,3.589-8.017,8.017v60.391H192.817\r\n",
            "                                      c-6.886-19.883-25.787-34.205-47.982-34.205s-41.097,14.322-47.982,34.205H50.772c-0.295,0-0.534-0.239-0.534-0.534v-17.637\r\n",
            "                                      h34.739c4.427,0,8.017-3.589,8.017-8.017s-3.589-8.017-8.017-8.017H8.017c-4.427,0-8.017,3.589-8.017,8.017\r\n",
            "                                      s3.589,8.017,8.017,8.017h26.188v17.637c0,9.136,7.432,16.568,16.568,16.568h43.304c-0.002,0.178-0.014,0.355-0.014,0.534\r\n",
            "                                      c0,27.996,22.777,50.772,50.772,50.772s50.772-22.776,50.772-50.772c0-0.18-0.012-0.356-0.014-0.534h180.67\r\n",
            "                                      c-0.002,0.178-0.014,0.355-0.014,0.534c0,27.996,22.777,50.772,50.772,50.772c27.995,0,50.772-22.776,50.772-50.772\r\n",
            "                                      c0-0.18-0.012-0.356-0.014-0.534h26.203c4.427,0,8.017-3.589,8.017-8.017v-85.511C512,251.989,496.423,234.448,476.158,231.363z\r\n",
            "                                      M375.182,144.301h60.392c9.725,0,17.637,7.912,17.637,17.637v0.534h-78.029V144.301z M375.182,230.881v-52.376h71.235\r\n",
            "                                      l13.094,52.376H375.182z M144.835,401.904c-19.155,0-34.739-15.583-34.739-34.739s15.584-34.739,34.739-34.739\r\n",
            "                                      c19.155,0,34.739,15.583,34.739,34.739S163.99,401.904,144.835,401.904z M427.023,401.904c-19.155,0-34.739-15.583-34.739-34.739\r\n",
            "                                      s15.584-34.739,34.739-34.739c19.155,0,34.739,15.583,34.739,34.739S446.178,401.904,427.023,401.904z M495.967,299.29h-9.086\r\n",
            "                                      c-5.01,0-9.086-4.076-9.086-9.086v-9.086h18.171V299.29z\"></path>\n",
            "</g>\n",
            "</g>\n",
            "<g>\n",
            "<g>\n",
            "<path d=\"M144.835,350.597c-9.136,0-16.568,7.432-16.568,16.568c0,9.136,7.432,16.568,16.568,16.568\r\n",
            "                                      c9.136,0,16.568-7.432,16.568-16.568C161.403,358.029,153.971,350.597,144.835,350.597z\"></path>\n",
            "</g>\n",
            "</g>\n",
            "<g>\n",
            "<g>\n",
            "<path d=\"M427.023,350.597c-9.136,0-16.568,7.432-16.568,16.568c0,9.136,7.432,16.568,16.568,16.568\r\n",
            "                                      c9.136,0,16.568-7.432,16.568-16.568C443.591,358.029,436.159,350.597,427.023,350.597z\"></path>\n",
            "</g>\n",
            "</g>\n",
            "<g>\n",
            "<g>\n",
            "<path d=\"M332.96,316.393H213.244c-4.427,0-8.017,3.589-8.017,8.017s3.589,8.017,8.017,8.017H332.96\r\n",
            "                                      c4.427,0,8.017-3.589,8.017-8.017S337.388,316.393,332.96,316.393z\"></path>\n",
            "</g>\n",
            "</g>\n",
            "<g>\n",
            "<g>\n",
            "<path d=\"M127.733,282.188H25.119c-4.427,0-8.017,3.589-8.017,8.017s3.589,8.017,8.017,8.017h102.614\r\n",
            "                                      c4.427,0,8.017-3.589,8.017-8.017S132.16,282.188,127.733,282.188z\"></path>\n",
            "</g>\n",
            "</g>\n",
            "<g>\n",
            "<g>\n",
            "<path d=\"M278.771,173.37c-3.13-3.13-8.207-3.13-11.337,0.001l-71.292,71.291l-37.087-37.087c-3.131-3.131-8.207-3.131-11.337,0\r\n",
            "                                      c-3.131,3.131-3.131,8.206,0,11.337l42.756,42.756c1.565,1.566,3.617,2.348,5.668,2.348s4.104-0.782,5.668-2.348l76.96-76.96\r\n",
            "                                      C281.901,181.576,281.901,176.501,278.771,173.37z\"></path>\n",
            "</g>\n",
            "</g>\n",
            "<g>\n",
            "</g>\n",
            "<g>\n",
            "</g>\n",
            "<g>\n",
            "</g>\n",
            "<g>\n",
            "</g>\n",
            "<g>\n",
            "</g>\n",
            "<g>\n",
            "</g>\n",
            "<g>\n",
            "</g>\n",
            "<g>\n",
            "</g>\n",
            "<g>\n",
            "</g>\n",
            "<g>\n",
            "</g>\n",
            "<g>\n",
            "</g>\n",
            "<g>\n",
            "</g>\n",
            "<g>\n",
            "</g>\n",
            "<g>\n",
            "</g>\n",
            "<g>\n",
            "</g>\n",
            "</svg>\n",
            "</div>\n",
            "<div class=\"detail-box\">\n",
            "<h5>\r\n",
            "                  Entrega rápida\r\n",
            "                </h5>\n",
            "</div>\n",
            "</div>\n",
            "</div>\n",
            "<div class=\"col-md-4\">\n",
            "<div class=\"box\">\n",
            "<div class=\"img-box\">\n",
            "<svg id=\"Capa-1\" style=\"enable-background:new 0 0 490.667 490.667;\" version=\"1.1\" viewbox=\"0 0 490.667 490.667\" x=\"0px\" xml:space=\"preserve\" xmlns=\"http://www.w3.org/2000/svg\" xmlns:xlink=\"http://www.w3.org/1999/xlink\" y=\"0px\">\n",
            "<g>\n",
            "<g>\n",
            "<path d=\"M138.667,192H96c-5.888,0-10.667,4.779-10.667,10.667V288c0,5.888,4.779,10.667,10.667,10.667s10.667-4.779,10.667-10.667\r\n",
            "                                      v-74.667h32c5.888,0,10.667-4.779,10.667-10.667S144.555,192,138.667,192z\"></path>\n",
            "</g>\n",
            "</g>\n",
            "<g>\n",
            "<g>\n",
            "<path d=\"M117.333,234.667H96c-5.888,0-10.667,4.779-10.667,10.667S90.112,256,96,256h21.333c5.888,0,10.667-4.779,10.667-10.667\r\n",
            "                                      S123.221,234.667,117.333,234.667z\"></path>\n",
            "</g>\n",
            "</g>\n",
            "<g>\n",
            "<g>\n",
            "<path d=\"M245.333,0C110.059,0,0,110.059,0,245.333s110.059,245.333,245.333,245.333s245.333-110.059,245.333-245.333\r\n",
            "                                      S380.608,0,245.333,0z M245.333,469.333c-123.52,0-224-100.48-224-224s100.48-224,224-224s224,100.48,224,224\r\n",
            "                                      S368.853,469.333,245.333,469.333z\"></path>\n",
            "</g>\n",
            "</g>\n",
            "<g>\n",
            "<g>\n",
            "<path d=\"M386.752,131.989C352.085,88.789,300.544,64,245.333,64s-106.752,24.789-141.419,67.989\r\n",
            "                                      c-3.691,4.587-2.965,11.307,1.643,14.997c4.587,3.691,11.307,2.965,14.976-1.643c30.613-38.144,76.096-60.011,124.8-60.011\r\n",
            "                                      s94.187,21.867,124.779,60.011c2.112,2.624,5.205,3.989,8.32,3.989c2.368,0,4.715-0.768,6.677-2.347\r\n",
            "                                      C389.717,143.296,390.443,136.576,386.752,131.989z\"></path>\n",
            "</g>\n",
            "</g>\n",
            "<g>\n",
            "<g>\n",
            "<path d=\"M376.405,354.923c-4.224-4.032-11.008-3.861-15.061,0.405c-30.613,32.235-71.808,50.005-116.011,50.005\r\n",
            "                                      s-85.397-17.771-115.989-50.005c-4.032-4.309-10.816-4.437-15.061-0.405c-4.309,4.053-4.459,10.816-0.405,15.083\r\n",
            "                                      c34.667,36.544,81.344,56.661,131.456,56.661s96.789-20.117,131.477-56.661C380.864,365.739,380.693,358.976,376.405,354.923z\"></path>\n",
            "</g>\n",
            "</g>\n",
            "<g>\n",
            "<g>\n",
            "<path d=\"M206.805,255.723c15.701-2.027,27.861-15.488,27.861-31.723c0-17.643-14.357-32-32-32h-21.333\r\n",
            "                                      c-5.888,0-10.667,4.779-10.667,10.667v42.581c0,0.043,0,0.107,0,0.149V288c0,5.888,4.779,10.667,10.667,10.667\r\n",
            "                                      S192,293.888,192,288v-16.917l24.448,24.469c2.091,2.069,4.821,3.115,7.552,3.115c2.731,0,5.461-1.045,7.531-3.136\r\n",
            "                                      c4.16-4.16,4.16-10.923,0-15.083L206.805,255.723z M192,234.667v-21.333h10.667c5.867,0,10.667,4.779,10.667,10.667\r\n",
            "                                      s-4.8,10.667-10.667,10.667H192z\"></path>\n",
            "</g>\n",
            "</g>\n",
            "<g>\n",
            "<g>\n",
            "<path d=\"M309.333,277.333h-32v-64h32c5.888,0,10.667-4.779,10.667-10.667S315.221,192,309.333,192h-42.667\r\n",
            "                                      c-5.888,0-10.667,4.779-10.667,10.667V288c0,5.888,4.779,10.667,10.667,10.667h42.667c5.888,0,10.667-4.779,10.667-10.667\r\n",
            "                                      S315.221,277.333,309.333,277.333z\"></path>\n",
            "</g>\n",
            "</g>\n",
            "<g>\n",
            "<g>\n",
            "<path d=\"M288,234.667h-21.333c-5.888,0-10.667,4.779-10.667,10.667S260.779,256,266.667,256H288\r\n",
            "                                      c5.888,0,10.667-4.779,10.667-10.667S293.888,234.667,288,234.667z\"></path>\n",
            "</g>\n",
            "</g>\n",
            "<g>\n",
            "<g>\n",
            "<path d=\"M394.667,277.333h-32v-64h32c5.888,0,10.667-4.779,10.667-10.667S400.555,192,394.667,192H352\r\n",
            "                                      c-5.888,0-10.667,4.779-10.667,10.667V288c0,5.888,4.779,10.667,10.667,10.667h42.667c5.888,0,10.667-4.779,10.667-10.667\r\n",
            "                                      S400.555,277.333,394.667,277.333z\"></path>\n",
            "</g>\n",
            "</g>\n",
            "<g>\n",
            "<g>\n",
            "<path d=\"M373.333,234.667H352c-5.888,0-10.667,4.779-10.667,10.667S346.112,256,352,256h21.333\r\n",
            "                                      c5.888,0,10.667-4.779,10.667-10.667S379.221,234.667,373.333,234.667z\"></path>\n",
            "</g>\n",
            "</g>\n",
            "<g>\n",
            "</g>\n",
            "<g>\n",
            "</g>\n",
            "<g>\n",
            "</g>\n",
            "<g>\n",
            "</g>\n",
            "<g>\n",
            "</g>\n",
            "<g>\n",
            "</g>\n",
            "<g>\n",
            "</g>\n",
            "<g>\n",
            "</g>\n",
            "<g>\n",
            "</g>\n",
            "<g>\n",
            "</g>\n",
            "<g>\n",
            "</g>\n",
            "<g>\n",
            "</g>\n",
            "<g>\n",
            "</g>\n",
            "<g>\n",
            "</g>\n",
            "<g>\n",
            "</g>\n",
            "</svg>\n",
            "</div>\n",
            "<div class=\"detail-box\">\n",
            "<h5>\r\n",
            "                  Envío gratuito\r\n",
            "                </h5>\n",
            "</div>\n",
            "</div>\n",
            "</div>\n",
            "<div class=\"col-md-4\">\n",
            "<div class=\"box\">\n",
            "<div class=\"img-box\">\n",
            "<svg data-name=\"30-Premium\" height=\"512\" id=\"-30-Premium\" viewbox=\"0 0 512 512\" width=\"512\" xmlns=\"http://www.w3.org/2000/svg\">\n",
            "<g id=\"filled\">\n",
            "<path d=\"m252.92 300h3.08a124.245 124.245 0 1 0 -4.49-.09c.075.009.15.023.226.03.394.039.789.06 1.184.06zm-96.92-124a100 100 0 1 1 100 100 100.113 100.113 0 0 1 -100-100z\"></path>\n",
            "<path d=\"m447.445 387.635-80.4-80.4a171.682 171.682 0 0 0 60.955-131.235c0-94.841-77.159-172-172-172s-172 77.159-172 172c0 73.747 46.657 136.794 112 161.2v158.8c-.3 9.289 11.094 15.384 18.656 9.984l41.344-27.562 41.344 27.562c7.574 5.4 18.949-.7 18.656-9.984v-70.109l46.6 46.594c6.395 6.789 18.712 3.025 20.253-6.132l9.74-48.724 48.725-9.742c9.163-1.531 12.904-13.893 6.127-20.252zm-339.445-211.635c0-81.607 66.393-148 148-148s148 66.393 148 148-66.393 148-148 148-148-66.393-148-148zm154.656 278.016a12 12 0 0 0 -13.312 0l-29.344 19.562v-129.378a172.338 172.338 0 0 0 72 0v129.38zm117.381-58.353a12 12 0 0 0 -9.415 9.415l-6.913 34.58-47.709-47.709v-54.749a171.469 171.469 0 0 0 31.467-15.6l67.151 67.152z\"></path>\n",
            "<path d=\"m287.62 236.985c8.349 4.694 19.251-3.212 17.367-12.618l-5.841-35.145 25.384-25c7.049-6.5 2.89-19.3-6.634-20.415l-35.23-5.306-15.933-31.867c-4.009-8.713-17.457-8.711-21.466 0l-15.933 31.866-35.23 5.306c-9.526 1.119-13.681 13.911-6.634 20.415l25.384 25-5.841 35.145c-1.879 9.406 9 17.31 17.367 12.618l31.62-16.414zm-53-32.359 2.928-17.615a12 12 0 0 0 -3.417-10.516l-12.721-12.531 17.658-2.66a12 12 0 0 0 8.947-6.5l7.985-15.971 7.985 15.972a12 12 0 0 0 8.947 6.5l17.658 2.66-12.723 12.535a12 12 0 0 0 -3.417 10.516l2.928 17.615-15.849-8.231a12 12 0 0 0 -11.058 0z\"></path>\n",
            "</g>\n",
            "</svg>\n",
            "</div>\n",
            "<div class=\"detail-box\">\n",
            "<h5>\r\n",
            "                  La mejor calidad\r\n",
            "                </h5>\n",
            "</div>\n",
            "</div>\n",
            "</div>\n",
            "</div>\n",
            "</div>\n",
            "</section>\n",
            "<!-- end why section -->\n",
            "<!-- arrival section -->\n",
            "<section class=\"arrival-section-top\">\n",
            "<div class=\"container\">\n",
            "<div class=\"box\">\n",
            "<div class=\"arrival-bg-box\">\n",
            "<img alt=\"Variedad de patinetas en la tienda\" src=\"images/arrival-bg-store.png\"/>\n",
            "</div>\n",
            "<div class=\"row\">\n",
            "<div class=\"col-md-6 ml-auto\">\n",
            "<div class=\"heading-container remove-line-bt\">\n",
            "<h2>\r\n",
            "                  #Novedades\r\n",
            "                </h2>\n",
            "</div>\n",
            "<p style=\"margin-top: 20px;margin-bottom: 30px;\">\r\n",
            "                ¡No te pierdas nuestros últimos productos!\r\n",
            "              </p>\n",
            "<a href=\"\">\r\n",
            "                Comprar ahora\r\n",
            "              </a>\n",
            "</div>\n",
            "</div>\n",
            "</div>\n",
            "</div>\n",
            "</section>\n",
            "<!-- end arrival section -->\n",
            "<!-- product section -->\n",
            "<section class=\"product-section layout-padding\">\n",
            "<div class=\"container\">\n",
            "<div class=\"heading-container heading-center\" id=\"productos\">\n",
            "<h2>\r\n",
            "            Nuestros <span>productos</span>\n",
            "</h2>\n",
            "</div>\n",
            "<div class=\"row\">\n",
            "<div class=\"col-sm-6 col-md-4 col-lg-4\">\n",
            "<div class=\"box\">\n",
            "<div class=\"option-container\">\n",
            "<div class=\"options\">\n",
            "<a class=\"option1\" href=\"\">\r\n",
            "                    Agregar al carrito\r\n",
            "                  </a>\n",
            "<a class=\"option2\" href=\"\">\r\n",
            "                    Comprar ahora\r\n",
            "                  </a>\n",
            "</div>\n",
            "</div>\n",
            "<div class=\"img-box\">\n",
            "<img alt=\"Patineta 1\" src=\"images/p1.png\"/>\n",
            "</div>\n",
            "<div class=\"detail-box\">\n",
            "<h5>\r\n",
            "                  Patineta Nueva 1\r\n",
            "                </h5>\n",
            "<h6>\r\n",
            "                  $75\r\n",
            "                </h6>\n",
            "</div>\n",
            "</div>\n",
            "</div>\n",
            "<div class=\"col-sm-6 col-md-4 col-lg-4\">\n",
            "<div class=\"box\">\n",
            "<div class=\"option-container\">\n",
            "<div class=\"options\">\n",
            "<a class=\"option1\" href=\"\">\r\n",
            "                    Agregar al carrito\r\n",
            "                  </a>\n",
            "<a class=\"option2\" href=\"\">\r\n",
            "                    Comprar ahora\r\n",
            "                  </a>\n",
            "</div>\n",
            "</div>\n",
            "<div class=\"img-box\">\n",
            "<img alt=\"Patineta 2\" src=\"images/p2.jpg\"/>\n",
            "</div>\n",
            "<div class=\"detail-box\">\n",
            "<h5>\r\n",
            "                  Patineta Usada 2\r\n",
            "                </h5>\n",
            "<h6>\r\n",
            "                  $80\r\n",
            "                </h6>\n",
            "</div>\n",
            "</div>\n",
            "</div>\n",
            "<div class=\"col-sm-6 col-md-4 col-lg-4\">\n",
            "<div class=\"box\">\n",
            "<div class=\"option-container\">\n",
            "<div class=\"options\">\n",
            "<a class=\"option1\" href=\"\">\r\n",
            "                    Agregar al carrito\r\n",
            "                  </a>\n",
            "<a class=\"option2\" href=\"\">\r\n",
            "                    Comprar ahora\r\n",
            "                  </a>\n",
            "</div>\n",
            "</div>\n",
            "<div class=\"img-box\">\n",
            "<img alt=\"Patineta 3\" src=\"images/p3.png\"/>\n",
            "</div>\n",
            "<div class=\"detail-box\">\n",
            "<h5>\r\n",
            "                  Patineta Nueva 3\r\n",
            "                </h5>\n",
            "<h6>\r\n",
            "                  $68\r\n",
            "                </h6>\n",
            "</div>\n",
            "</div>\n",
            "</div>\n",
            "<div class=\"col-sm-6 col-md-4 col-lg-4\">\n",
            "<div class=\"box\">\n",
            "<div class=\"option-container\">\n",
            "<div class=\"options\">\n",
            "<a class=\"option1\" href=\"\">\r\n",
            "                    Agregar al carrito\r\n",
            "                  </a>\n",
            "<a class=\"option2\" href=\"\">\r\n",
            "                    Comprar ahora\r\n",
            "                  </a>\n",
            "</div>\n",
            "</div>\n",
            "<div class=\"img-box\">\n",
            "<img alt=\"Patineta 4\" src=\"images/p4.png\"/>\n",
            "</div>\n",
            "<div class=\"detail-box\">\n",
            "<h5>\r\n",
            "                  Patineta Usada 4\r\n",
            "                </h5>\n",
            "<h6>\r\n",
            "                  $70\r\n",
            "                </h6>\n",
            "</div>\n",
            "</div>\n",
            "</div>\n",
            "<div class=\"col-sm-6 col-md-4 col-lg-4\">\n",
            "<div class=\"box\">\n",
            "<div class=\"option-container\">\n",
            "<div class=\"options\">\n",
            "<a class=\"option1\" href=\"\">\r\n",
            "                    Agregar al carrito\r\n",
            "                  </a>\n",
            "<a class=\"option2\" href=\"\">\r\n",
            "                    Comprar ahora\r\n",
            "                  </a>\n",
            "</div>\n",
            "</div>\n",
            "<div class=\"img-box\">\n",
            "<img alt=\"Patineta 5\" src=\"images/p5.png\"/>\n",
            "</div>\n",
            "<div class=\"detail-box\">\n",
            "<h5>\r\n",
            "                  Patineta Nueva 5\r\n",
            "                </h5>\n",
            "<h6>\r\n",
            "                  $75\r\n",
            "                </h6>\n",
            "</div>\n",
            "</div>\n",
            "</div>\n",
            "<div class=\"col-sm-6 col-md-4 col-lg-4\">\n",
            "<div class=\"box\">\n",
            "<div class=\"option-container\">\n",
            "<div class=\"options\">\n",
            "<a class=\"option1\" href=\"\">\r\n",
            "                    Agregar al carrito\r\n",
            "                  </a>\n",
            "<a class=\"option2\" href=\"\">\r\n",
            "                    Comprar ahora\r\n",
            "                  </a>\n",
            "</div>\n",
            "</div>\n",
            "<div class=\"img-box\">\n",
            "<img alt=\"Patineta 6\" src=\"images/p6.png\"/>\n",
            "</div>\n",
            "<div class=\"detail-box\">\n",
            "<h5>\r\n",
            "                  Patineta Nueva 6\r\n",
            "                </h5>\n",
            "<h6>\r\n",
            "                  $58\r\n",
            "                </h6>\n",
            "</div>\n",
            "</div>\n",
            "</div>\n",
            "<div class=\"col-sm-6 col-md-4 col-lg-4\">\n",
            "<div class=\"box\">\n",
            "<div class=\"option-container\">\n",
            "<div class=\"options\">\n",
            "<a class=\"option1\" href=\"\">\r\n",
            "                    Agregar al carrito\r\n",
            "                  </a>\n",
            "<a class=\"option2\" href=\"\">\r\n",
            "                    Comprar ahora\r\n",
            "                  </a>\n",
            "</div>\n",
            "</div>\n",
            "<div class=\"img-box\">\n",
            "<img alt=\"Patineta 7\" src=\"images/p7.png\"/>\n",
            "</div>\n",
            "<div class=\"detail-box\">\n",
            "<h5>\r\n",
            "                  Patineta Nueva 7\r\n",
            "                </h5>\n",
            "<h6>\r\n",
            "                  $80\r\n",
            "                </h6>\n",
            "</div>\n",
            "</div>\n",
            "</div>\n",
            "<div class=\"col-sm-6 col-md-4 col-lg-4\">\n",
            "<div class=\"box\">\n",
            "<div class=\"option-container\">\n",
            "<div class=\"options\">\n",
            "<a class=\"option1\" href=\"\">\r\n",
            "                    Agregar al carrito\r\n",
            "                  </a>\n",
            "<a class=\"option2\" href=\"\">\r\n",
            "                    Comprar ahora\r\n",
            "                  </a>\n",
            "</div>\n",
            "</div>\n",
            "<div class=\"img-box\">\n",
            "<img alt=\"Patineta 8\" src=\"images/p8.png\"/>\n",
            "</div>\n",
            "<div class=\"detail-box\">\n",
            "<h5>\r\n",
            "                  Patineta Nueva 8\r\n",
            "                </h5>\n",
            "<h6>\r\n",
            "                  $35\r\n",
            "                </h6>\n",
            "</div>\n",
            "</div>\n",
            "</div>\n",
            "<div class=\"col-sm-6 col-md-4 col-lg-4\">\n",
            "<div class=\"box\">\n",
            "<div class=\"option-container\">\n",
            "<div class=\"options\">\n",
            "<a class=\"option1\" href=\"\">\r\n",
            "                    Agregar al carrito\r\n",
            "                  </a>\n",
            "<a class=\"option2\" href=\"\">\r\n",
            "                    Comprar ahora\r\n",
            "                  </a>\n",
            "</div>\n",
            "</div>\n",
            "<div class=\"img-box\">\n",
            "<img alt=\"Patineta 9\" src=\"images/p9.png\"/>\n",
            "</div>\n",
            "<div class=\"detail-box\">\n",
            "<h5>\r\n",
            "                  Patineta Nueva 9\r\n",
            "                </h5>\n",
            "<h6>\r\n",
            "                  $165\r\n",
            "                </h6>\n",
            "</div>\n",
            "</div>\n",
            "</div>\n",
            "<div class=\"col-sm-6 col-md-4 col-lg-4\">\n",
            "<div class=\"box\">\n",
            "<div class=\"option-container\">\n",
            "<div class=\"options\">\n",
            "<a class=\"option1\" href=\"\">\r\n",
            "                    Agregar al carrito\r\n",
            "                  </a>\n",
            "<a class=\"option2\" href=\"\">\r\n",
            "                    Comprar ahora\r\n",
            "                  </a>\n",
            "</div>\n",
            "</div>\n",
            "<div class=\"img-box\">\n",
            "<img alt=\"Patineta 10\" src=\"images/p10.png\"/>\n",
            "</div>\n",
            "<div class=\"detail-box\">\n",
            "<h5>\r\n",
            "                  Patineta Usada 10\r\n",
            "                </h5>\n",
            "<h6>\r\n",
            "                  $54\r\n",
            "                </h6>\n",
            "</div>\n",
            "</div>\n",
            "</div>\n",
            "<div class=\"col-sm-6 col-md-4 col-lg-4\">\n",
            "<div class=\"box\">\n",
            "<div class=\"option-container\">\n",
            "<div class=\"options\">\n",
            "<a class=\"option1\" href=\"\">\r\n",
            "                    Agregar al carrito\r\n",
            "                  </a>\n",
            "<a class=\"option2\" href=\"\">\r\n",
            "                    Comprar ahora\r\n",
            "                  </a>\n",
            "</div>\n",
            "</div>\n",
            "<div class=\"img-box\">\n",
            "<img alt=\"Patineta 11\" src=\"images/p11.png\"/>\n",
            "</div>\n",
            "<div class=\"detail-box\">\n",
            "<h5>\r\n",
            "                  Patineta Usada 11\r\n",
            "                </h5>\n",
            "<h6>\r\n",
            "                  $99\r\n",
            "                </h6>\n",
            "</div>\n",
            "</div>\n",
            "</div>\n",
            "<div class=\"col-sm-6 col-md-4 col-lg-4\">\n",
            "<div class=\"box\">\n",
            "<div class=\"option-container\">\n",
            "<div class=\"options\">\n",
            "<a class=\"option1\" href=\"\">\r\n",
            "                    Agregar al carrito\r\n",
            "                  </a>\n",
            "<a class=\"option2\" href=\"\">\r\n",
            "                    Comprar ahora\r\n",
            "                  </a>\n",
            "</div>\n",
            "</div>\n",
            "<div class=\"img-box\">\n",
            "<img alt=\"Patineta 12\" src=\"images/p12.png\"/>\n",
            "</div>\n",
            "<div class=\"detail-box\">\n",
            "<h5>\r\n",
            "                  Patineta Nueva 12\r\n",
            "                </h5>\n",
            "<h6>\r\n",
            "                  $110\r\n",
            "                </h6>\n",
            "</div>\n",
            "</div>\n",
            "</div>\n",
            "</div>\n",
            "<div class=\"btn-box\">\n",
            "<a href=\"\">\r\n",
            "            Ver todos los productos\r\n",
            "          </a>\n",
            "</div>\n",
            "</div>\n",
            "</section>\n",
            "<!-- end product section -->\n",
            "<!-- subscribe section -->\n",
            "<section class=\"subscribe-section\">\n",
            "<div class=\"container-fuild\">\n",
            "<div class=\"box\">\n",
            "<div class=\"row\">\n",
            "<div class=\"col-md-6 offset-md-3\">\n",
            "<div class=\"subscribe-form\">\n",
            "<div class=\"heading-container heading-center\">\n",
            "<h3>Suscríbete para obtener descuentos y ofertas</h3>\n",
            "</div>\n",
            "<form action=\"\">\n",
            "<input placeholder=\"Dejanos tu email\" type=\"email\"/>\n",
            "<button>\r\n",
            "                    Suscribirse\r\n",
            "                  </button>\n",
            "</form>\n",
            "</div>\n",
            "</div>\n",
            "</div>\n",
            "</div>\n",
            "</div>\n",
            "</section>\n",
            "<!-- end subscribe section -->\n",
            "<!-- client section -->\n",
            "<section class=\"client-section layout-padding\" id=\"testimonios\">\n",
            "<div class=\"container\">\n",
            "<div class=\"heading-container heading-center\">\n",
            "<h2>\r\n",
            "            Testimonios de clientes\r\n",
            "          </h2>\n",
            "</div>\n",
            "<div class=\"carousel slide\" data-ride=\"carousel\" id=\"carouselExample3Controls\">\n",
            "<div class=\"carousel-inner\">\n",
            "<div class=\"carousel-item active\">\n",
            "<div class=\"box col-lg-10 mx-auto\">\n",
            "<div class=\"img-container\">\n",
            "<div class=\"img-box\">\n",
            "<div class=\"img-box-inner\">\n",
            "<img alt=\"Cliente 1\" src=\"images/client-one.png\"/>\n",
            "</div>\n",
            "</div>\n",
            "</div>\n",
            "<div class=\"detail-box\">\n",
            "<h5 class=\"cliente-nombre\">\r\n",
            "                    Cliente 1\r\n",
            "                  </h5>\n",
            "<p class=\"cliente-comentario\">\r\n",
            "                    Los productos me encantaron y los precios son muy buenos. Lo recomiendo.\r\n",
            "                  </p>\n",
            "</div>\n",
            "</div>\n",
            "</div>\n",
            "<div class=\"carousel-item\">\n",
            "<div class=\"box col-lg-10 mx-auto\">\n",
            "<div class=\"img-container\">\n",
            "<div class=\"img-box\">\n",
            "<div class=\"img-box-inner\">\n",
            "<img alt=\"Cliente 2\" src=\"images/client-two.png\"/>\n",
            "</div>\n",
            "</div>\n",
            "</div>\n",
            "<div class=\"detail-box\">\n",
            "<h5 class=\"cliente-nombre\">\r\n",
            "                    Cliente 2\r\n",
            "                  </h5>\n",
            "<p class=\"cliente-comentario\">\r\n",
            "                    ¡La calidad y variedad de patinetas es impresionante! Definitivamente volveré a comprar.\r\n",
            "                  </p>\n",
            "</div>\n",
            "</div>\n",
            "</div>\n",
            "<div class=\"carousel-item\">\n",
            "<div class=\"box col-lg-10 mx-auto\">\n",
            "<div class=\"img-container\">\n",
            "<div class=\"img-box\">\n",
            "<div class=\"img-box-inner\">\n",
            "<img alt=\"Cliente 3\" src=\"images/client-three.png\"/>\n",
            "</div>\n",
            "</div>\n",
            "</div>\n",
            "<div class=\"detail-box\">\n",
            "<h5 class=\"cliente-nombre\">\r\n",
            "                    Cliente 3\r\n",
            "                  </h5>\n",
            "<p class=\"cliente-comentario\">\r\n",
            "                    Estoy muy conforme. Hay muchas patinetas y los diseños son fantásticos.\r\n",
            "                  </p>\n",
            "</div>\n",
            "</div>\n",
            "</div>\n",
            "</div>\n",
            "<div class=\"carousel-btn-box\">\n",
            "<a class=\"carousel-control-prev\" data-slide=\"prev\" href=\"#carouselExample3Controls\" role=\"button\">\n",
            "<i aria-hidden=\"true\" class=\"fa fa-long-arrow-left\"></i>\n",
            "<span class=\"sr-only\">Anterior</span>\n",
            "</a>\n",
            "<a class=\"carousel-control-next\" data-slide=\"next\" href=\"#carouselExample3Controls\" role=\"button\">\n",
            "<i aria-hidden=\"true\" class=\"fa fa-long-arrow-right\"></i>\n",
            "<span class=\"sr-only\">Siguiente</span>\n",
            "</a>\n",
            "</div>\n",
            "</div>\n",
            "</div>\n",
            "</section>\n",
            "<!-- end client section -->\n",
            "<section class=\"arrival-section-bottom\" id=\"precios\">\n",
            "<div class=\"container\">\n",
            "<h2 class=\"heading-container\">\r\n",
            "          Tabla de precios\r\n",
            "        </h2>\n",
            "<br/>\n",
            "<div class=\"table-responsive\">\n",
            "<iframe src=\"table.html\" title=\"table_iframe\"></iframe>\n",
            "</div>\n",
            "<div class=\"btn-box\" id=\"missing-models-box\">\n",
            "<a href=\"\">\r\n",
            "            Los modelos faltantes se muestran en color rojo.\r\n",
            "          </a>\n",
            "</div>\n",
            "</div>\n",
            "</section>\n",
            "<!-- footer start -->\n",
            "<footer>\n",
            "<div class=\"container\">\n",
            "<div class=\"row\">\n",
            "<div class=\"col-md-4\">\n",
            "<div class=\"full\">\n",
            "<div class=\"logo-footer\">\n",
            "<a href=\"#\"><img alt=\"#\" src=\"images/logo.svg\" width=\"210\"/></a>\n",
            "</div>\n",
            "<div class=\"information-f\">\n",
            "<p><strong>DIRECCIÓN:</strong> Calle falsa 123</p>\n",
            "<p><strong>TELÉFONO:</strong> 4-444-4444</p>\n",
            "<p><strong>EMAIL:</strong> ventas@mail.com</p>\n",
            "</div>\n",
            "</div>\n",
            "</div>\n",
            "<div class=\"col-md-8\">\n",
            "<div class=\"row\">\n",
            "<div class=\"col-md-7\">\n",
            "<div class=\"row\">\n",
            "<div class=\"col-md-6\">\n",
            "<div class=\"widget-menu\">\n",
            "<h3 class=\"menu\">MENÚ</h3>\n",
            "<ul>\n",
            "<li><a href=\"#\">Inicio</a></li>\n",
            "<li><a href=\"#\">Acerca</a></li>\n",
            "<li><a href=\"#\">Servicios</a></li>\n",
            "<li><a href=\"#\">Testimonios</a></li>\n",
            "<li><a href=\"#\">Contacto</a></li>\n",
            "</ul>\n",
            "</div>\n",
            "</div>\n",
            "</div>\n",
            "</div>\n",
            "</div>\n",
            "</div>\n",
            "</div>\n",
            "</div>\n",
            "</footer>\n",
            "<!-- footer end -->\n",
            "<div class=\"attribution\">\n",
            "<p>© 2022 <span>Todos los derechos reservados</span>.\r\n",
            "        <a href=\"https://html.design/\" rel=\"noopener noreferrer\" target=\"_blank\">Creado con Free Html Templates</a>.\r\n",
            "      </p>\n",
            "<a href=\"https://freecodecamp.org/\" rel=\"noopener noreferrer\" target=\"_blank\">\n",
            "<img alt=\"Logo de freeCodeCamp\" class=\"freecodecamp-logo\" src=\"./images/freecodecamp-logo.png\"/>\n",
            "</a>\n",
            "</div>\n",
            "<!-- jQuery -->\n",
            "<script src=\"js/jquery-3.4.1.min.js\"></script>\n",
            "<!-- popper js -->\n",
            "<script src=\"js/popper.min.js\"></script>\n",
            "<!-- bootstrap js -->\n",
            "<script src=\"js/bootstrap.js\"></script>\n",
            "</body>\n",
            "</html>\n"
          ]
        }
      ]
    },
    {
      "cell_type": "code",
      "source": [
        "type(soup)"
      ],
      "metadata": {
        "collapsed": true,
        "id": "cFK0xLbE67H4",
        "outputId": "3a12a656-b3b0-4997-9e2c-25ea39bc77ae",
        "colab": {
          "base_uri": "https://localhost:8080/",
          "height": 187
        }
      },
      "execution_count": null,
      "outputs": [
        {
          "output_type": "execute_result",
          "data": {
            "text/plain": [
              "bs4.BeautifulSoup"
            ],
            "text/html": [
              "<div style=\"max-width:800px; border: 1px solid var(--colab-border-color);\"><style>\n",
              "      pre.function-repr-contents {\n",
              "        overflow-x: auto;\n",
              "        padding: 8px 12px;\n",
              "        max-height: 500px;\n",
              "      }\n",
              "\n",
              "      pre.function-repr-contents.function-repr-contents-collapsed {\n",
              "        cursor: pointer;\n",
              "        max-height: 100px;\n",
              "      }\n",
              "    </style>\n",
              "    <pre style=\"white-space: initial; background:\n",
              "         var(--colab-secondary-surface-color); padding: 8px 12px;\n",
              "         border-bottom: 1px solid var(--colab-border-color);\"><b>bs4.BeautifulSoup</b><br/>def __call__(*args, **kwargs)</pre><pre class=\"function-repr-contents function-repr-contents-collapsed\" style=\"\"><a class=\"filepath\" style=\"display:none\" href=\"#\">/usr/local/lib/python3.10/dist-packages/bs4/__init__.py</a>A data structure representing a parsed HTML or XML document.\n",
              "\n",
              "Most of the methods you&#x27;ll call on a BeautifulSoup object are inherited from\n",
              "PageElement or Tag.\n",
              "\n",
              "Internally, this class defines the basic interface called by the\n",
              "tree builders when converting an HTML/XML document into a data\n",
              "structure. The interface abstracts away the differences between\n",
              "parsers. To write a new tree builder, you&#x27;ll need to understand\n",
              "these methods as a whole.\n",
              "\n",
              "These methods will be called by the BeautifulSoup constructor:\n",
              "  * reset()\n",
              "  * feed(markup)\n",
              "\n",
              "The tree builder may call these methods from its feed() implementation:\n",
              "  * handle_starttag(name, attrs) # See note about return value\n",
              "  * handle_endtag(name)\n",
              "  * handle_data(data) # Appends to the current data node\n",
              "  * endData(containerClass) # Ends the current data node\n",
              "\n",
              "No matter how complicated the underlying parser is, you should be\n",
              "able to build a tree using &#x27;start tag&#x27; events, &#x27;end tag&#x27; events,\n",
              "&#x27;data&#x27; events, and &quot;done with data&quot; events.\n",
              "\n",
              "If you encounter an empty-element tag (aka a self-closing tag,\n",
              "like HTML&#x27;s &lt;br&gt; tag), call handle_starttag and then\n",
              "handle_endtag.</pre>\n",
              "      <script>\n",
              "      if (google.colab.kernel.accessAllowed && google.colab.files && google.colab.files.view) {\n",
              "        for (const element of document.querySelectorAll('.filepath')) {\n",
              "          element.style.display = 'block'\n",
              "          element.onclick = (event) => {\n",
              "            event.preventDefault();\n",
              "            event.stopPropagation();\n",
              "            google.colab.files.view(element.textContent, 76);\n",
              "          };\n",
              "        }\n",
              "      }\n",
              "      for (const element of document.querySelectorAll('.function-repr-contents')) {\n",
              "        element.onclick = (event) => {\n",
              "          event.preventDefault();\n",
              "          event.stopPropagation();\n",
              "          element.classList.toggle('function-repr-contents-collapsed');\n",
              "        };\n",
              "      }\n",
              "      </script>\n",
              "      </div>"
            ]
          },
          "metadata": {},
          "execution_count": 8
        }
      ]
    },
    {
      "cell_type": "markdown",
      "source": [
        "El método find()"
      ],
      "metadata": {
        "id": "BY9Q-ZbE7iX3"
      }
    },
    {
      "cell_type": "code",
      "source": [
        "primer_h2 = soup.find('h2')\n",
        "print(primer_h2)"
      ],
      "metadata": {
        "id": "55OwF8Ox3yci",
        "outputId": "8e8d3a3c-d494-4b75-951c-4a367b8b5f52",
        "colab": {
          "base_uri": "https://localhost:8080/"
        }
      },
      "execution_count": null,
      "outputs": [
        {
          "output_type": "stream",
          "name": "stdout",
          "text": [
            "<h2>¿Por qué comprar con nosotros?</h2>\n"
          ]
        }
      ]
    },
    {
      "cell_type": "code",
      "source": [
        "# Solo el texto\n",
        "print(primer_h2.text)\n",
        "\n",
        "# equivalente a:\n",
        "# print(soup.h2.text)"
      ],
      "metadata": {
        "id": "WeT2WixU75Nl",
        "outputId": "4ed8083a-e19f-4bd4-c672-58204d59e5ee",
        "colab": {
          "base_uri": "https://localhost:8080/"
        }
      },
      "execution_count": null,
      "outputs": [
        {
          "output_type": "stream",
          "name": "stdout",
          "text": [
            "¿Por qué comprar con nosotros?\n"
          ]
        }
      ]
    },
    {
      "cell_type": "markdown",
      "source": [
        "El método find_all()"
      ],
      "metadata": {
        "id": "PLpP4a9A8Nva"
      }
    },
    {
      "cell_type": "code",
      "source": [
        "h2_todos = soup.find_all('h2')\n",
        "print(h2_todos)"
      ],
      "metadata": {
        "collapsed": true,
        "id": "_yOdhjLQ8SfS",
        "outputId": "3c633f35-200a-46f5-a7c1-c2098056a9b6",
        "colab": {
          "base_uri": "https://localhost:8080/"
        }
      },
      "execution_count": null,
      "outputs": [
        {
          "output_type": "stream",
          "name": "stdout",
          "text": [
            "[<h2>¿Por qué comprar con nosotros?</h2>, <h2>\r\n",
            "                  #Novedades\r\n",
            "                </h2>, <h2>\r\n",
            "            Nuestros <span>productos</span>\n",
            "</h2>, <h2>\r\n",
            "            Testimonios de clientes\r\n",
            "          </h2>, <h2 class=\"heading-container\">\r\n",
            "          Tabla de precios\r\n",
            "        </h2>]\n"
          ]
        }
      ]
    },
    {
      "cell_type": "code",
      "source": [
        "# ARGUMENTOS\n",
        "# Si usamos el parametro limit = 1. emulamos al metodo find\n",
        "h2_uno_solo = soup.find_all('h2', limit=1)\n",
        "print(h2_uno_solo)"
      ],
      "metadata": {
        "id": "jmpXe8dK9Zmr",
        "outputId": "3180675a-0911-4e05-cc20-bd3312b5232d",
        "colab": {
          "base_uri": "https://localhost:8080/"
        }
      },
      "execution_count": null,
      "outputs": [
        {
          "output_type": "stream",
          "name": "stdout",
          "text": [
            "[<h2>¿Por qué comprar con nosotros?</h2>]\n"
          ]
        }
      ]
    },
    {
      "cell_type": "code",
      "source": [
        "# Podemos iterar sobre el objeto\n",
        "for seccion in h2_todos:\n",
        "  print(seccion.text)"
      ],
      "metadata": {
        "collapsed": true,
        "id": "aiuT63YW923a",
        "outputId": "b2125381-985e-448d-a3c7-dd417ec35c0a",
        "colab": {
          "base_uri": "https://localhost:8080/"
        }
      },
      "execution_count": null,
      "outputs": [
        {
          "output_type": "stream",
          "name": "stdout",
          "text": [
            "¿Por qué comprar con nosotros?\n",
            "\r\n",
            "                  #Novedades\r\n",
            "                \n",
            "\r\n",
            "            Nuestros productos\n",
            "\n",
            "\r\n",
            "            Testimonios de clientes\r\n",
            "          \n",
            "\r\n",
            "          Tabla de precios\r\n",
            "        \n"
          ]
        }
      ]
    },
    {
      "cell_type": "code",
      "source": [
        "# get_text() para más funcionalidades\n",
        "# Elimina los espacios\n",
        "for seccion in h2_todos:\n",
        "  print(seccion.get_text(strip=True))"
      ],
      "metadata": {
        "collapsed": true,
        "id": "qn-QNRYP-mNC",
        "outputId": "f2bb0cd5-89cd-4828-d2eb-4a596f16dbfa",
        "colab": {
          "base_uri": "https://localhost:8080/"
        }
      },
      "execution_count": null,
      "outputs": [
        {
          "output_type": "stream",
          "name": "stdout",
          "text": [
            "¿Por qué comprar con nosotros?\n",
            "#Novedades\n",
            "Nuestrosproductos\n",
            "Testimonios de clientes\n",
            "Tabla de precios\n"
          ]
        }
      ]
    },
    {
      "cell_type": "markdown",
      "source": [
        "Utilizando atributos de las etiquetas"
      ],
      "metadata": {
        "id": "3fjGd14---vM"
      }
    },
    {
      "cell_type": "code",
      "source": [
        "# Clase\n",
        "divs = soup.find_all('div', class_ =\"heading-container heading-center\")\n",
        "\n",
        "for div in divs:\n",
        "  print(div)\n",
        "  print(\" \")"
      ],
      "metadata": {
        "collapsed": true,
        "id": "nIVNA4kZ-8bl",
        "outputId": "f6569007-473d-47d4-a945-693350edee78",
        "colab": {
          "base_uri": "https://localhost:8080/"
        }
      },
      "execution_count": null,
      "outputs": [
        {
          "output_type": "stream",
          "name": "stdout",
          "text": [
            "<div class=\"heading-container heading-center\" id=\"acerca\">\n",
            "<h2>¿Por qué comprar con nosotros?</h2>\n",
            "</div>\n",
            " \n",
            "<div class=\"heading-container heading-center\" id=\"productos\">\n",
            "<h2>\r\n",
            "            Nuestros <span>productos</span>\n",
            "</h2>\n",
            "</div>\n",
            " \n",
            "<div class=\"heading-container heading-center\">\n",
            "<h3>Suscríbete para obtener descuentos y ofertas</h3>\n",
            "</div>\n",
            " \n",
            "<div class=\"heading-container heading-center\">\n",
            "<h2>\r\n",
            "            Testimonios de clientes\r\n",
            "          </h2>\n",
            "</div>\n",
            " \n"
          ]
        }
      ]
    },
    {
      "cell_type": "markdown",
      "source": [
        "Descargar imágenes"
      ],
      "metadata": {
        "id": "-MfyytT4BWYi"
      }
    },
    {
      "cell_type": "code",
      "source": [
        "# Todas las etiquetas que tengan el atributo \"src\"\n",
        "src_todos = soup.find_all(src=True)\n",
        "\n",
        "for elemento in src_todos:\n",
        "  if elemento['src'].endswith(\".jpg\"):\n",
        "    print(elemento)"
      ],
      "metadata": {
        "id": "OZsMdtNcBaS0",
        "outputId": "881bc217-064e-4fee-b228-7b1880a1454c",
        "colab": {
          "base_uri": "https://localhost:8080/"
        }
      },
      "execution_count": null,
      "outputs": [
        {
          "output_type": "stream",
          "name": "stdout",
          "text": [
            "<img alt=\"Parque de patinaje\" src=\"images/slider-bg.jpg\"/>\n",
            "<img alt=\"Patineta 2\" src=\"images/p2.jpg\"/>\n"
          ]
        }
      ]
    },
    {
      "cell_type": "code",
      "source": [
        "# Bajar todas las imagenes\n",
        "\n",
        "url_imagenes =[]\n",
        "for i, imagen in enumerate(src_todos):\n",
        "  if imagen['src'].endswith('png'):\n",
        "    print(imagen['src'])\n",
        "    r = requests.get(f\"https://scrapepark.org/courses/spanish/\")\n",
        "    with open(f'imagen_{i}.png', 'wb') as f:\n",
        "      f.write(r.content)"
      ],
      "metadata": {
        "collapsed": true,
        "id": "nVnDMF8nDHlb",
        "outputId": "dad9a583-5870-4451-9130-4326b45bc339",
        "colab": {
          "base_uri": "https://localhost:8080/"
        }
      },
      "execution_count": null,
      "outputs": [
        {
          "output_type": "stream",
          "name": "stdout",
          "text": [
            "images/arrival-bg-store.png\n",
            "images/p1.png\n",
            "images/p3.png\n",
            "images/p4.png\n",
            "images/p5.png\n",
            "images/p6.png\n",
            "images/p7.png\n",
            "images/p8.png\n",
            "images/p9.png\n",
            "images/p10.png\n",
            "images/p11.png\n",
            "images/p12.png\n",
            "images/client-one.png\n",
            "images/client-two.png\n",
            "images/client-three.png\n",
            "./images/freecodecamp-logo.png\n"
          ]
        }
      ]
    },
    {
      "cell_type": "markdown",
      "source": [
        "Etiquetas iframe y table"
      ],
      "metadata": {
        "id": "7ZSs-KylFTEO"
      }
    },
    {
      "cell_type": "markdown",
      "source": [],
      "metadata": {
        "id": "24Ch6UB9Jw_q"
      }
    },
    {
      "cell_type": "markdown",
      "source": [
        "Tablas"
      ],
      "metadata": {
        "id": "aVE3zyiwFlaO"
      }
    },
    {
      "cell_type": "code",
      "source": [
        "soup.find_all('iframe')[0]"
      ],
      "metadata": {
        "colab": {
          "base_uri": "https://localhost:8080/"
        },
        "collapsed": true,
        "id": "wECy6O83JMqo",
        "outputId": "ba901413-d3d8-4642-8e2b-956bbba5b428"
      },
      "execution_count": null,
      "outputs": [
        {
          "output_type": "execute_result",
          "data": {
            "text/plain": [
              "<iframe src=\"table.html\" title=\"table_iframe\"></iframe>"
            ]
          },
          "metadata": {},
          "execution_count": 25
        }
      ]
    },
    {
      "cell_type": "code",
      "source": [
        "soup.find_all('iframe')[0]['src']"
      ],
      "metadata": {
        "id": "HNP15m1iKEGc",
        "outputId": "b71fb5b9-2ffc-453b-fa4b-f1149f40deb2",
        "colab": {
          "base_uri": "https://localhost:8080/",
          "height": 36
        }
      },
      "execution_count": null,
      "outputs": [
        {
          "output_type": "execute_result",
          "data": {
            "text/plain": [
              "'table.html'"
            ],
            "application/vnd.google.colaboratory.intrinsic+json": {
              "type": "string"
            }
          },
          "metadata": {},
          "execution_count": 24
        }
      ]
    },
    {
      "cell_type": "code",
      "source": [
        "# información de tablas\n",
        "\n",
        "URL_BASE = 'https://scrapepark.org/courses/spanish/'\n",
        "URL_TABLA = soup.find_all('iframe')[0]['src']\n",
        "\n",
        "request_tabla = requests.get(f'{URL_BASE}/{URL_TABLA}')\n",
        "\n",
        "html_tabla = request_tabla.text\n",
        "soup_tabla = BeautifulSoup(html_tabla, \"html.parser\")\n",
        "soup_tabla.find('table')\n",
        "\n",
        "productos_faltantes = soup_tabla.find_all(['th', 'td'], attrs={'style':'color: red;'})\n",
        "productos_faltantes = [talle.text for talle in productos_faltantes]\n",
        "\n",
        "print(productos_faltantes)"
      ],
      "metadata": {
        "id": "R5usSYqnFXOq",
        "outputId": "cee95ce3-2159-4edb-c8d1-9023491b454a",
        "colab": {
          "base_uri": "https://localhost:8080/"
        }
      },
      "execution_count": null,
      "outputs": [
        {
          "output_type": "stream",
          "name": "stdout",
          "text": [
            "['Longboard', '$80', '$85', '$90', '$62', '$150']\n"
          ]
        }
      ]
    },
    {
      "cell_type": "markdown",
      "source": [
        "Datos de productos"
      ],
      "metadata": {
        "id": "UPXNyeiyLvnN"
      }
    },
    {
      "cell_type": "code",
      "source": [
        "# Obtener nombre y precios de lso productos\n",
        "divs = soup.find_all('div', class_= 'detail-box')\n",
        "productos = []\n",
        "precios = []\n",
        "\n",
        "for div in divs:\n",
        "  if (div.h6 is not None) and ('Patineta' in div.h5.text):\n",
        "    producto = div.h5.get_text(strip=True)\n",
        "    precio = div.h6.get_text(strip=True).replace('$', '')\n",
        "    # Se puede agregar filtros\n",
        "    print(f'producto: {producto:<16} | precio: {precio}')\n",
        "    productos.append(producto)\n",
        "    precios.append(precio)"
      ],
      "metadata": {
        "collapsed": true,
        "id": "wRYPM3ZhLzk_",
        "outputId": "675351a6-bcd2-411c-c621-52ce77df34e0",
        "colab": {
          "base_uri": "https://localhost:8080/"
        }
      },
      "execution_count": null,
      "outputs": [
        {
          "output_type": "stream",
          "name": "stdout",
          "text": [
            "producto: Patineta Nueva 1 | precio: 75\n",
            "producto: Patineta Usada 2 | precio: 80\n",
            "producto: Patineta Nueva 3 | precio: 68\n",
            "producto: Patineta Usada 4 | precio: 70\n",
            "producto: Patineta Nueva 5 | precio: 75\n",
            "producto: Patineta Nueva 6 | precio: 58\n",
            "producto: Patineta Nueva 7 | precio: 80\n",
            "producto: Patineta Nueva 8 | precio: 35\n",
            "producto: Patineta Nueva 9 | precio: 165\n",
            "producto: Patineta Usada 10 | precio: 54\n",
            "producto: Patineta Usada 11 | precio: 99\n",
            "producto: Patineta Nueva 12 | precio: 110\n"
          ]
        }
      ]
    },
    {
      "cell_type": "code",
      "source": [
        "productos"
      ],
      "metadata": {
        "collapsed": true,
        "id": "M63TFC_QO38c",
        "outputId": "fdfbc370-e615-4a47-8b8b-ce0a0736f524",
        "colab": {
          "base_uri": "https://localhost:8080/"
        }
      },
      "execution_count": null,
      "outputs": [
        {
          "output_type": "execute_result",
          "data": {
            "text/plain": [
              "['Patineta Nueva 1',\n",
              " 'Patineta Usada 2',\n",
              " 'Patineta Nueva 3',\n",
              " 'Patineta Usada 4',\n",
              " 'Patineta Nueva 5',\n",
              " 'Patineta Nueva 6',\n",
              " 'Patineta Nueva 7',\n",
              " 'Patineta Nueva 8',\n",
              " 'Patineta Nueva 9',\n",
              " 'Patineta Usada 10',\n",
              " 'Patineta Usada 11',\n",
              " 'Patineta Nueva 12']"
            ]
          },
          "metadata": {},
          "execution_count": 29
        }
      ]
    },
    {
      "cell_type": "code",
      "source": [
        "precios"
      ],
      "metadata": {
        "id": "uAaH7NWVO-bq",
        "outputId": "230e41a4-7cf0-4fb7-fa2c-d814b159f235",
        "colab": {
          "base_uri": "https://localhost:8080/"
        }
      },
      "execution_count": null,
      "outputs": [
        {
          "output_type": "execute_result",
          "data": {
            "text/plain": [
              "['75', '80', '68', '70', '75', '58', '80', '35', '165', '54', '99', '110']"
            ]
          },
          "metadata": {},
          "execution_count": 30
        }
      ]
    },
    {
      "cell_type": "markdown",
      "source": [
        "Cambios en las URLs"
      ],
      "metadata": {
        "id": "-vSigsq-PBbq"
      }
    },
    {
      "cell_type": "code",
      "source": [
        "# Cambios que dependen de la URL\n",
        "URL_BASE = \"https://scrapepark.org/courses/spanish/contact\"\n",
        "\n",
        "for i in range(1,3):\n",
        "  URL_FINAL = f\"{URL_BASE}{i}\"\n",
        "  print(URL_FINAL)\n",
        "  soup = BeautifulSoup(r.text, \"html.parser\")\n",
        "  print(soup.h5.text)"
      ],
      "metadata": {
        "collapsed": true,
        "id": "TK9bqeIvPJO2",
        "outputId": "b6d8ba38-bdba-43f1-a02d-1289b16fe935",
        "colab": {
          "base_uri": "https://localhost:8080/"
        }
      },
      "execution_count": null,
      "outputs": [
        {
          "output_type": "stream",
          "name": "stdout",
          "text": [
            "https://scrapepark.org/courses/spanish/contact1\n",
            "\r\n",
            "                  Entrega rápida\r\n",
            "                \n",
            "https://scrapepark.org/courses/spanish/contact2\n",
            "\r\n",
            "                  Entrega rápida\r\n",
            "                \n"
          ]
        }
      ]
    },
    {
      "cell_type": "code",
      "source": [],
      "metadata": {
        "id": "KF8YvKuIVsJW"
      },
      "execution_count": null,
      "outputs": []
    },
    {
      "cell_type": "markdown",
      "source": [
        "Datos que no sabemos en que parte de la página se encuentran"
      ],
      "metadata": {
        "id": "s482x1FvQ1Wg"
      }
    },
    {
      "cell_type": "code",
      "source": [
        "# Expresiones regulares\n",
        "import re\n",
        "\n",
        "# 1. Obtener el HTML\n",
        "URL_BASE ='https://scrapepark.org/courses/spanish'\n",
        "pedido_obtenido = requests.get(URL_BASE)\n",
        "html_obtenido = pedido_obtenido.text\n",
        "\n",
        "# 2. \"Parsear\" ese HTML\n",
        "soup = BeautifulSoup(html_obtenido, \"html.parser\")\n",
        "\n",
        "telefonos = soup.find_all(string=re.compile(\"\\d+-\\d+-\\d+\"))\n",
        "telefonos"
      ],
      "metadata": {
        "collapsed": true,
        "id": "9vwGnDOuRB9v",
        "outputId": "31a4477b-18a4-4633-8834-0b5e08c9c687",
        "colab": {
          "base_uri": "https://localhost:8080/"
        }
      },
      "execution_count": null,
      "outputs": [
        {
          "output_type": "execute_result",
          "data": {
            "text/plain": [
              "[' 4-444-4444']"
            ]
          },
          "metadata": {},
          "execution_count": 38
        }
      ]
    },
    {
      "cell_type": "markdown",
      "source": [
        "Text v/s get_text"
      ],
      "metadata": {
        "id": "iGe5cij7VmS-"
      }
    },
    {
      "cell_type": "code",
      "source": [
        "copyrights = soup.find_all(string=re.compile(\"©\"))\n",
        "copyrights"
      ],
      "metadata": {
        "id": "8d7CcXQQVyD2",
        "outputId": "707a9799-c2f2-4da3-9d37-921547de184b",
        "colab": {
          "base_uri": "https://localhost:8080/"
        }
      },
      "execution_count": null,
      "outputs": [
        {
          "output_type": "execute_result",
          "data": {
            "text/plain": [
              "['© 2022 ']"
            ]
          },
          "metadata": {},
          "execution_count": 39
        }
      ]
    },
    {
      "cell_type": "code",
      "source": [
        "primer_copyright = copyrights[0]\n",
        "primer_copyright.parent"
      ],
      "metadata": {
        "id": "MCnLDMvBWJBd",
        "outputId": "7c498c07-acbd-48af-ea20-6eeb1c50e4d4",
        "colab": {
          "base_uri": "https://localhost:8080/"
        }
      },
      "execution_count": null,
      "outputs": [
        {
          "output_type": "execute_result",
          "data": {
            "text/plain": [
              "<p>© 2022 <span>Todos los derechos reservados</span>.\n",
              "        <a href=\"https://html.design/\" rel=\"noopener noreferrer\" target=\"_blank\">Creado con Free Html Templates</a>.\n",
              "      </p>"
            ]
          },
          "metadata": {},
          "execution_count": 40
        }
      ]
    },
    {
      "cell_type": "code",
      "source": [
        "# Otro ejemplo con elementos al mismo nivel\n",
        "menu = soup.find(string=re.compile(\"MENÚ\"))\n",
        "menu.parent\n",
        "# menu.parent.find_next_siblings()"
      ],
      "metadata": {
        "id": "qHCVlAj7WTJr",
        "outputId": "9fafd9aa-0431-4fb7-ad46-972e85f76f4e",
        "colab": {
          "base_uri": "https://localhost:8080/"
        }
      },
      "execution_count": null,
      "outputs": [
        {
          "output_type": "execute_result",
          "data": {
            "text/plain": [
              "<h3 class=\"menu\">MENÚ</h3>"
            ]
          },
          "metadata": {},
          "execution_count": 41
        }
      ]
    },
    {
      "cell_type": "code",
      "source": [
        "menu.parent.find_next_siblings()"
      ],
      "metadata": {
        "collapsed": true,
        "id": "FJmLNmlMXvNL",
        "outputId": "cf8fcec8-9a8d-41b1-9ac1-52cf1d6415f5",
        "colab": {
          "base_uri": "https://localhost:8080/"
        }
      },
      "execution_count": null,
      "outputs": [
        {
          "output_type": "execute_result",
          "data": {
            "text/plain": [
              "[<ul>\n",
              " <li><a href=\"#\">Inicio</a></li>\n",
              " <li><a href=\"#\">Acerca</a></li>\n",
              " <li><a href=\"#\">Servicios</a></li>\n",
              " <li><a href=\"#\">Testimonios</a></li>\n",
              " <li><a href=\"#\">Contacto</a></li>\n",
              " </ul>]"
            ]
          },
          "metadata": {},
          "execution_count": 42
        }
      ]
    },
    {
      "cell_type": "markdown",
      "source": [
        "Control de excepciones"
      ],
      "metadata": {
        "id": "QlfyNLwnZkK2"
      }
    },
    {
      "cell_type": "code",
      "source": [
        "strings_a_buscar = [\"MENÚ\", \"©\", \"carpincho\", \"Patineta\"]\n",
        "\n",
        "for string in strings_a_buscar:\n",
        "  try:\n",
        "    resultado = soup.find(string=re.compile(string))\n",
        "    print(resultado.text)\n",
        "  except AttributeError:\n",
        "    print(f\"El string '{string}' no fue encontrado\")"
      ],
      "metadata": {
        "id": "H29Bhtv7Zm91",
        "outputId": "81ee2966-8861-4daa-b19b-135ba65eb469",
        "colab": {
          "base_uri": "https://localhost:8080/"
        }
      },
      "execution_count": null,
      "outputs": [
        {
          "output_type": "stream",
          "name": "stdout",
          "text": [
            "MENÚ\n",
            "© 2022 \n",
            "El string 'carpincho' no fue encontrado\n",
            "\r\n",
            "                  Patineta Nueva 1\r\n",
            "                \n"
          ]
        }
      ]
    },
    {
      "cell_type": "markdown",
      "source": [
        "Almacenamiento de datos"
      ],
      "metadata": {
        "id": "j84WH9KtbUHC"
      }
    },
    {
      "cell_type": "code",
      "source": [
        "import csv\n",
        "\n",
        "productos.insert(0, \"productos\")\n",
        "precios.insert(0, \"precios\")\n",
        "datos = dict(zip(productos, precios))\n",
        "with open('datos.csv', 'w') as f:\n",
        "  w = csv.writer(f)\n",
        "  w.writerows(datos.items())"
      ],
      "metadata": {
        "id": "ufRSyOewbXNy"
      },
      "execution_count": null,
      "outputs": []
    }
  ]
}